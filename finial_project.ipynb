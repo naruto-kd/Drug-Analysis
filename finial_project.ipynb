{
 "cells": [
  {
   "cell_type": "markdown",
   "metadata": {},
   "source": [
    "# Drug Comsumption Data"
   ]
  },
  {
   "cell_type": "code",
   "execution_count": 1,
   "metadata": {},
   "outputs": [],
   "source": [
    "import pandas as pd\n",
    "import numpy as np\n",
    "import matplotlib.pyplot as plt\n",
    "%matplotlib inline\n",
    "import seaborn as sns\n",
    "sns.set_style('darkgrid')"
   ]
  },
  {
   "cell_type": "code",
   "execution_count": 2,
   "metadata": {},
   "outputs": [],
   "source": [
    "names = ['ID', 'Age', 'Gender', 'Education', 'Country', 'Ethnicity', 'Nscore', 'Escore', 'Oscore', 'Ascore', \n",
    "        'Cscore', 'Impulsive', 'SS', 'Alcohol', 'Amphet', 'Amyl', 'Benzos', 'Caff', 'Cannabis', 'Choc', 'Coke',\n",
    "        'Crack', 'Ecstasy', 'Heroin', 'Ketamine', 'Legalh', 'LSD', 'Meth', 'Mushrooms', 'Nicotine', 'Semer', 'VSA']"
   ]
  },
  {
   "cell_type": "code",
   "execution_count": 3,
   "metadata": {},
   "outputs": [
    {
     "data": {
      "text/html": [
       "<div>\n",
       "<style scoped>\n",
       "    .dataframe tbody tr th:only-of-type {\n",
       "        vertical-align: middle;\n",
       "    }\n",
       "\n",
       "    .dataframe tbody tr th {\n",
       "        vertical-align: top;\n",
       "    }\n",
       "\n",
       "    .dataframe thead th {\n",
       "        text-align: right;\n",
       "    }\n",
       "</style>\n",
       "<table border=\"1\" class=\"dataframe\">\n",
       "  <thead>\n",
       "    <tr style=\"text-align: right;\">\n",
       "      <th></th>\n",
       "      <th>ID</th>\n",
       "      <th>Age</th>\n",
       "      <th>Gender</th>\n",
       "      <th>Education</th>\n",
       "      <th>Country</th>\n",
       "      <th>Ethnicity</th>\n",
       "      <th>Nscore</th>\n",
       "      <th>Escore</th>\n",
       "      <th>Oscore</th>\n",
       "      <th>Ascore</th>\n",
       "      <th>Cscore</th>\n",
       "      <th>Impulsive</th>\n",
       "      <th>SS</th>\n",
       "      <th>Alcohol</th>\n",
       "      <th>Amphet</th>\n",
       "      <th>Amyl</th>\n",
       "      <th>Benzos</th>\n",
       "      <th>Caff</th>\n",
       "      <th>Cannabis</th>\n",
       "      <th>Choc</th>\n",
       "      <th>Coke</th>\n",
       "      <th>Crack</th>\n",
       "      <th>Ecstasy</th>\n",
       "      <th>Heroin</th>\n",
       "      <th>Ketamine</th>\n",
       "      <th>Legalh</th>\n",
       "      <th>LSD</th>\n",
       "      <th>Meth</th>\n",
       "      <th>Mushrooms</th>\n",
       "      <th>Nicotine</th>\n",
       "      <th>Semer</th>\n",
       "      <th>VSA</th>\n",
       "    </tr>\n",
       "  </thead>\n",
       "  <tbody>\n",
       "    <tr>\n",
       "      <th>0</th>\n",
       "      <td>1</td>\n",
       "      <td>0.49788</td>\n",
       "      <td>0.48246</td>\n",
       "      <td>-0.05921</td>\n",
       "      <td>0.96082</td>\n",
       "      <td>0.12600</td>\n",
       "      <td>0.31287</td>\n",
       "      <td>-0.57545</td>\n",
       "      <td>-0.58331</td>\n",
       "      <td>-0.91699</td>\n",
       "      <td>-0.00665</td>\n",
       "      <td>-0.21712</td>\n",
       "      <td>-1.18084</td>\n",
       "      <td>CL5</td>\n",
       "      <td>CL2</td>\n",
       "      <td>CL0</td>\n",
       "      <td>CL2</td>\n",
       "      <td>CL6</td>\n",
       "      <td>CL0</td>\n",
       "      <td>CL5</td>\n",
       "      <td>CL0</td>\n",
       "      <td>CL0</td>\n",
       "      <td>CL0</td>\n",
       "      <td>CL0</td>\n",
       "      <td>CL0</td>\n",
       "      <td>CL0</td>\n",
       "      <td>CL0</td>\n",
       "      <td>CL0</td>\n",
       "      <td>CL0</td>\n",
       "      <td>CL2</td>\n",
       "      <td>CL0</td>\n",
       "      <td>CL0</td>\n",
       "    </tr>\n",
       "    <tr>\n",
       "      <th>1</th>\n",
       "      <td>2</td>\n",
       "      <td>-0.07854</td>\n",
       "      <td>-0.48246</td>\n",
       "      <td>1.98437</td>\n",
       "      <td>0.96082</td>\n",
       "      <td>-0.31685</td>\n",
       "      <td>-0.67825</td>\n",
       "      <td>1.93886</td>\n",
       "      <td>1.43533</td>\n",
       "      <td>0.76096</td>\n",
       "      <td>-0.14277</td>\n",
       "      <td>-0.71126</td>\n",
       "      <td>-0.21575</td>\n",
       "      <td>CL5</td>\n",
       "      <td>CL2</td>\n",
       "      <td>CL2</td>\n",
       "      <td>CL0</td>\n",
       "      <td>CL6</td>\n",
       "      <td>CL4</td>\n",
       "      <td>CL6</td>\n",
       "      <td>CL3</td>\n",
       "      <td>CL0</td>\n",
       "      <td>CL4</td>\n",
       "      <td>CL0</td>\n",
       "      <td>CL2</td>\n",
       "      <td>CL0</td>\n",
       "      <td>CL2</td>\n",
       "      <td>CL3</td>\n",
       "      <td>CL0</td>\n",
       "      <td>CL4</td>\n",
       "      <td>CL0</td>\n",
       "      <td>CL0</td>\n",
       "    </tr>\n",
       "    <tr>\n",
       "      <th>2</th>\n",
       "      <td>3</td>\n",
       "      <td>0.49788</td>\n",
       "      <td>-0.48246</td>\n",
       "      <td>-0.05921</td>\n",
       "      <td>0.96082</td>\n",
       "      <td>-0.31685</td>\n",
       "      <td>-0.46725</td>\n",
       "      <td>0.80523</td>\n",
       "      <td>-0.84732</td>\n",
       "      <td>-1.62090</td>\n",
       "      <td>-1.01450</td>\n",
       "      <td>-1.37983</td>\n",
       "      <td>0.40148</td>\n",
       "      <td>CL6</td>\n",
       "      <td>CL0</td>\n",
       "      <td>CL0</td>\n",
       "      <td>CL0</td>\n",
       "      <td>CL6</td>\n",
       "      <td>CL3</td>\n",
       "      <td>CL4</td>\n",
       "      <td>CL0</td>\n",
       "      <td>CL0</td>\n",
       "      <td>CL0</td>\n",
       "      <td>CL0</td>\n",
       "      <td>CL0</td>\n",
       "      <td>CL0</td>\n",
       "      <td>CL0</td>\n",
       "      <td>CL0</td>\n",
       "      <td>CL1</td>\n",
       "      <td>CL0</td>\n",
       "      <td>CL0</td>\n",
       "      <td>CL0</td>\n",
       "    </tr>\n",
       "    <tr>\n",
       "      <th>3</th>\n",
       "      <td>4</td>\n",
       "      <td>-0.95197</td>\n",
       "      <td>0.48246</td>\n",
       "      <td>1.16365</td>\n",
       "      <td>0.96082</td>\n",
       "      <td>-0.31685</td>\n",
       "      <td>-0.14882</td>\n",
       "      <td>-0.80615</td>\n",
       "      <td>-0.01928</td>\n",
       "      <td>0.59042</td>\n",
       "      <td>0.58489</td>\n",
       "      <td>-1.37983</td>\n",
       "      <td>-1.18084</td>\n",
       "      <td>CL4</td>\n",
       "      <td>CL0</td>\n",
       "      <td>CL0</td>\n",
       "      <td>CL3</td>\n",
       "      <td>CL5</td>\n",
       "      <td>CL2</td>\n",
       "      <td>CL4</td>\n",
       "      <td>CL2</td>\n",
       "      <td>CL0</td>\n",
       "      <td>CL0</td>\n",
       "      <td>CL0</td>\n",
       "      <td>CL2</td>\n",
       "      <td>CL0</td>\n",
       "      <td>CL0</td>\n",
       "      <td>CL0</td>\n",
       "      <td>CL0</td>\n",
       "      <td>CL2</td>\n",
       "      <td>CL0</td>\n",
       "      <td>CL0</td>\n",
       "    </tr>\n",
       "    <tr>\n",
       "      <th>4</th>\n",
       "      <td>5</td>\n",
       "      <td>0.49788</td>\n",
       "      <td>0.48246</td>\n",
       "      <td>1.98437</td>\n",
       "      <td>0.96082</td>\n",
       "      <td>-0.31685</td>\n",
       "      <td>0.73545</td>\n",
       "      <td>-1.63340</td>\n",
       "      <td>-0.45174</td>\n",
       "      <td>-0.30172</td>\n",
       "      <td>1.30612</td>\n",
       "      <td>-0.21712</td>\n",
       "      <td>-0.21575</td>\n",
       "      <td>CL4</td>\n",
       "      <td>CL1</td>\n",
       "      <td>CL1</td>\n",
       "      <td>CL0</td>\n",
       "      <td>CL6</td>\n",
       "      <td>CL3</td>\n",
       "      <td>CL6</td>\n",
       "      <td>CL0</td>\n",
       "      <td>CL0</td>\n",
       "      <td>CL1</td>\n",
       "      <td>CL0</td>\n",
       "      <td>CL0</td>\n",
       "      <td>CL1</td>\n",
       "      <td>CL0</td>\n",
       "      <td>CL0</td>\n",
       "      <td>CL2</td>\n",
       "      <td>CL2</td>\n",
       "      <td>CL0</td>\n",
       "      <td>CL0</td>\n",
       "    </tr>\n",
       "  </tbody>\n",
       "</table>\n",
       "</div>"
      ],
      "text/plain": [
       "   ID      Age   Gender  Education  Country  Ethnicity   Nscore   Escore  \\\n",
       "0   1  0.49788  0.48246   -0.05921  0.96082    0.12600  0.31287 -0.57545   \n",
       "1   2 -0.07854 -0.48246    1.98437  0.96082   -0.31685 -0.67825  1.93886   \n",
       "2   3  0.49788 -0.48246   -0.05921  0.96082   -0.31685 -0.46725  0.80523   \n",
       "3   4 -0.95197  0.48246    1.16365  0.96082   -0.31685 -0.14882 -0.80615   \n",
       "4   5  0.49788  0.48246    1.98437  0.96082   -0.31685  0.73545 -1.63340   \n",
       "\n",
       "    Oscore   Ascore   Cscore  Impulsive       SS Alcohol Amphet Amyl Benzos  \\\n",
       "0 -0.58331 -0.91699 -0.00665   -0.21712 -1.18084     CL5    CL2  CL0    CL2   \n",
       "1  1.43533  0.76096 -0.14277   -0.71126 -0.21575     CL5    CL2  CL2    CL0   \n",
       "2 -0.84732 -1.62090 -1.01450   -1.37983  0.40148     CL6    CL0  CL0    CL0   \n",
       "3 -0.01928  0.59042  0.58489   -1.37983 -1.18084     CL4    CL0  CL0    CL3   \n",
       "4 -0.45174 -0.30172  1.30612   -0.21712 -0.21575     CL4    CL1  CL1    CL0   \n",
       "\n",
       "  Caff Cannabis Choc Coke Crack Ecstasy Heroin Ketamine Legalh  LSD Meth  \\\n",
       "0  CL6      CL0  CL5  CL0   CL0     CL0    CL0      CL0    CL0  CL0  CL0   \n",
       "1  CL6      CL4  CL6  CL3   CL0     CL4    CL0      CL2    CL0  CL2  CL3   \n",
       "2  CL6      CL3  CL4  CL0   CL0     CL0    CL0      CL0    CL0  CL0  CL0   \n",
       "3  CL5      CL2  CL4  CL2   CL0     CL0    CL0      CL2    CL0  CL0  CL0   \n",
       "4  CL6      CL3  CL6  CL0   CL0     CL1    CL0      CL0    CL1  CL0  CL0   \n",
       "\n",
       "  Mushrooms Nicotine Semer  VSA  \n",
       "0       CL0      CL2   CL0  CL0  \n",
       "1       CL0      CL4   CL0  CL0  \n",
       "2       CL1      CL0   CL0  CL0  \n",
       "3       CL0      CL2   CL0  CL0  \n",
       "4       CL2      CL2   CL0  CL0  "
      ]
     },
     "execution_count": 3,
     "metadata": {},
     "output_type": "execute_result"
    }
   ],
   "source": [
    "#original data frame \n",
    "data = pd.read_csv(\"drug_consumption.data\", names=names)\n",
    "pd.set_option('display.max_columns', 100)\n",
    "data.head()"
   ]
  },
  {
   "cell_type": "markdown",
   "metadata": {},
   "source": [
    "#### Personality Inventory Data\n",
    "* Nscore (Real) is NEO-FFI-R Neuroticism\n",
    "* Escore (Real) is NEO-FFI-R Extraversion\n",
    "* Oscore (Real) is NEO-FFI-R Openness to experience\n",
    "* Ascore (Real) is NEO-FFI-R Agreeableness\n",
    "* Cscore (Real) is NEO-FFI-R Conscientiousness\n",
    "* Impulsive (Real) is impulsiveness measured by BIS-11\n",
    "* SS (Real) is sensation seeking measured by ImpSS\n",
    "***\n",
    "#### Notation Originally Used in All Drug Columns \n",
    "* CL0 Never Used \n",
    "* CL1 Used over a Decade Ago \n",
    "* CL2 Used in Last Decade \n",
    "* CL3 Used in Last Year \n",
    "* CL4 Used in Last Month \n",
    "* CL5 Used in Last Week \n",
    "* CL6 Used in Last Day "
   ]
  },
  {
   "cell_type": "code",
   "execution_count": 4,
   "metadata": {},
   "outputs": [],
   "source": [
    "def plot_confusion_matrix(cm, classes,\n",
    "                          normalize=False,\n",
    "                          title='Confusion matrix',\n",
    "                          cmap=plt.cm.Greens):\n",
    "    \"\"\"\n",
    "    This function prints and plots the confusion matrix.\n",
    "    Normalization can be applied by setting `normalize=True`.\n",
    "    \"\"\"\n",
    "    if normalize:\n",
    "        cm = cm.astype('float') / cm.sum(axis=1)[:, np.newaxis]\n",
    "        print(\"Normalized confusion matrix\")\n",
    "    else:\n",
    "        print('Confusion Matrix, without normalization')\n",
    "\n",
    "    print(cm)\n",
    "\n",
    "    plt.imshow(cm, interpolation='nearest', cmap=cmap)\n",
    "    plt.title(title)\n",
    "    plt.colorbar()\n",
    "    tick_marks = np.arange(len(classes))\n",
    "    plt.xticks(tick_marks, classes, rotation=45)\n",
    "    plt.yticks(tick_marks, classes)\n",
    "\n",
    "    fmt = '.2f' if normalize else 'd'\n",
    "    thresh = cm.max() / 2.\n",
    "    for i, j in itertools.product(range(cm.shape[0]), range(cm.shape[1])):\n",
    "        plt.text(j, i, format(cm[i, j], fmt),\n",
    "                 horizontalalignment=\"center\",\n",
    "                 color=\"white\" if cm[i, j] > thresh else \"black\")\n",
    "    plt.tight_layout()\n",
    "    plt.ylabel('True label')\n",
    "    plt.xlabel('Predicted label')\n",
    "    plt.grid(False)"
   ]
  },
  {
   "cell_type": "code",
   "execution_count": 5,
   "metadata": {},
   "outputs": [],
   "source": [
    "def heatmap_corr(dataframe):\n",
    "    # Plots a heatmap of correlation \n",
    "    fig, ax = plt.subplots(figsize=(15,15))\n",
    "    mask=np.zeros_like(dataframe.corr(), dtype=np.bool)\n",
    "    mask[np.triu_indices_from(mask)] = True\n",
    "    color_map = sns.color_palette(\"RdBu\")\n",
    "    ax = sns.heatmap(dataframe.corr(), cmap = color_map, mask=mask, square=True, annot=True)\n",
    "    plt.title('Correlation Matrix')"
   ]
  },
  {
   "cell_type": "code",
   "execution_count": 6,
   "metadata": {},
   "outputs": [
    {
     "data": {
      "image/png": "[encoded data removed]",
      "text/plain": [
       "<Figure size 1080x1080 with 2 Axes>"
      ]
     },
     "metadata": {},
     "output_type": "display_data"
    }
   ],
   "source": [
    "heatmap_corr(data)"
   ]
  },
  {
   "cell_type": "code",
   "execution_count": 7,
   "metadata": {},
   "outputs": [],
   "source": [
    "#cleaned data frame \n",
    "df = pd.read_csv(\"dataframe_final_3.csv\")"
   ]
  },
  {
   "cell_type": "code",
   "execution_count": 8,
   "metadata": {},
   "outputs": [
    {
     "data": {
      "text/html": [
       "<div>\n",
       "<style scoped>\n",
       "    .dataframe tbody tr th:only-of-type {\n",
       "        vertical-align: middle;\n",
       "    }\n",
       "\n",
       "    .dataframe tbody tr th {\n",
       "        vertical-align: top;\n",
       "    }\n",
       "\n",
       "    .dataframe thead th {\n",
       "        text-align: right;\n",
       "    }\n",
       "</style>\n",
       "<table border=\"1\" class=\"dataframe\">\n",
       "  <thead>\n",
       "    <tr style=\"text-align: right;\">\n",
       "      <th></th>\n",
       "      <th>Nscore</th>\n",
       "      <th>Escore</th>\n",
       "      <th>Oscore</th>\n",
       "      <th>Ascore</th>\n",
       "      <th>Cscore</th>\n",
       "      <th>Impulsive</th>\n",
       "      <th>SS</th>\n",
       "      <th>Alcohol</th>\n",
       "      <th>Amphet</th>\n",
       "      <th>Benzos</th>\n",
       "      <th>Cannabis</th>\n",
       "      <th>Coke</th>\n",
       "      <th>Crack</th>\n",
       "      <th>Ecstasy</th>\n",
       "      <th>Heroin</th>\n",
       "      <th>Ketamine</th>\n",
       "      <th>Drug_Use</th>\n",
       "      <th>EDU_18</th>\n",
       "      <th>EDU_Some_college</th>\n",
       "      <th>EDU_Cert</th>\n",
       "      <th>EDU_Uni</th>\n",
       "      <th>EDU_Mas</th>\n",
       "      <th>EDU_Doc</th>\n",
       "      <th>Age25_34</th>\n",
       "      <th>Age35_44</th>\n",
       "      <th>Age45_54</th>\n",
       "      <th>Age55_64</th>\n",
       "      <th>Age65_</th>\n",
       "      <th>Gender</th>\n",
       "    </tr>\n",
       "  </thead>\n",
       "  <tbody>\n",
       "    <tr>\n",
       "      <th>0</th>\n",
       "      <td>0.31287</td>\n",
       "      <td>-0.57545</td>\n",
       "      <td>-0.58331</td>\n",
       "      <td>-0.91699</td>\n",
       "      <td>-0.00665</td>\n",
       "      <td>-0.21712</td>\n",
       "      <td>-1.18084</td>\n",
       "      <td>1</td>\n",
       "      <td>1</td>\n",
       "      <td>1</td>\n",
       "      <td>0</td>\n",
       "      <td>0</td>\n",
       "      <td>0</td>\n",
       "      <td>0</td>\n",
       "      <td>0</td>\n",
       "      <td>0</td>\n",
       "      <td>1</td>\n",
       "      <td>0</td>\n",
       "      <td>0</td>\n",
       "      <td>1</td>\n",
       "      <td>0</td>\n",
       "      <td>0</td>\n",
       "      <td>0</td>\n",
       "      <td>0</td>\n",
       "      <td>1</td>\n",
       "      <td>0</td>\n",
       "      <td>0</td>\n",
       "      <td>0</td>\n",
       "      <td>0</td>\n",
       "    </tr>\n",
       "    <tr>\n",
       "      <th>1</th>\n",
       "      <td>-0.67825</td>\n",
       "      <td>1.93886</td>\n",
       "      <td>1.43533</td>\n",
       "      <td>0.76096</td>\n",
       "      <td>-0.14277</td>\n",
       "      <td>-0.71126</td>\n",
       "      <td>-0.21575</td>\n",
       "      <td>1</td>\n",
       "      <td>1</td>\n",
       "      <td>0</td>\n",
       "      <td>1</td>\n",
       "      <td>1</td>\n",
       "      <td>0</td>\n",
       "      <td>1</td>\n",
       "      <td>0</td>\n",
       "      <td>1</td>\n",
       "      <td>1</td>\n",
       "      <td>0</td>\n",
       "      <td>0</td>\n",
       "      <td>0</td>\n",
       "      <td>0</td>\n",
       "      <td>0</td>\n",
       "      <td>1</td>\n",
       "      <td>1</td>\n",
       "      <td>0</td>\n",
       "      <td>0</td>\n",
       "      <td>0</td>\n",
       "      <td>0</td>\n",
       "      <td>1</td>\n",
       "    </tr>\n",
       "    <tr>\n",
       "      <th>2</th>\n",
       "      <td>-0.46725</td>\n",
       "      <td>0.80523</td>\n",
       "      <td>-0.84732</td>\n",
       "      <td>-1.62090</td>\n",
       "      <td>-1.01450</td>\n",
       "      <td>-1.37983</td>\n",
       "      <td>0.40148</td>\n",
       "      <td>1</td>\n",
       "      <td>0</td>\n",
       "      <td>0</td>\n",
       "      <td>0</td>\n",
       "      <td>0</td>\n",
       "      <td>0</td>\n",
       "      <td>0</td>\n",
       "      <td>0</td>\n",
       "      <td>0</td>\n",
       "      <td>0</td>\n",
       "      <td>0</td>\n",
       "      <td>0</td>\n",
       "      <td>1</td>\n",
       "      <td>0</td>\n",
       "      <td>0</td>\n",
       "      <td>0</td>\n",
       "      <td>0</td>\n",
       "      <td>1</td>\n",
       "      <td>0</td>\n",
       "      <td>0</td>\n",
       "      <td>0</td>\n",
       "      <td>1</td>\n",
       "    </tr>\n",
       "    <tr>\n",
       "      <th>3</th>\n",
       "      <td>-0.14882</td>\n",
       "      <td>-0.80615</td>\n",
       "      <td>-0.01928</td>\n",
       "      <td>0.59042</td>\n",
       "      <td>0.58489</td>\n",
       "      <td>-1.37983</td>\n",
       "      <td>-1.18084</td>\n",
       "      <td>1</td>\n",
       "      <td>0</td>\n",
       "      <td>1</td>\n",
       "      <td>0</td>\n",
       "      <td>1</td>\n",
       "      <td>0</td>\n",
       "      <td>0</td>\n",
       "      <td>0</td>\n",
       "      <td>1</td>\n",
       "      <td>1</td>\n",
       "      <td>0</td>\n",
       "      <td>0</td>\n",
       "      <td>0</td>\n",
       "      <td>0</td>\n",
       "      <td>1</td>\n",
       "      <td>0</td>\n",
       "      <td>0</td>\n",
       "      <td>0</td>\n",
       "      <td>0</td>\n",
       "      <td>0</td>\n",
       "      <td>0</td>\n",
       "      <td>0</td>\n",
       "    </tr>\n",
       "    <tr>\n",
       "      <th>4</th>\n",
       "      <td>0.73545</td>\n",
       "      <td>-1.63340</td>\n",
       "      <td>-0.45174</td>\n",
       "      <td>-0.30172</td>\n",
       "      <td>1.30612</td>\n",
       "      <td>-0.21712</td>\n",
       "      <td>-0.21575</td>\n",
       "      <td>1</td>\n",
       "      <td>0</td>\n",
       "      <td>0</td>\n",
       "      <td>0</td>\n",
       "      <td>0</td>\n",
       "      <td>0</td>\n",
       "      <td>0</td>\n",
       "      <td>0</td>\n",
       "      <td>0</td>\n",
       "      <td>0</td>\n",
       "      <td>0</td>\n",
       "      <td>0</td>\n",
       "      <td>0</td>\n",
       "      <td>0</td>\n",
       "      <td>0</td>\n",
       "      <td>1</td>\n",
       "      <td>0</td>\n",
       "      <td>1</td>\n",
       "      <td>0</td>\n",
       "      <td>0</td>\n",
       "      <td>0</td>\n",
       "      <td>0</td>\n",
       "    </tr>\n",
       "  </tbody>\n",
       "</table>\n",
       "</div>"
      ],
      "text/plain": [
       "    Nscore   Escore   Oscore   Ascore   Cscore  Impulsive       SS  Alcohol  \\\n",
       "0  0.31287 -0.57545 -0.58331 -0.91699 -0.00665   -0.21712 -1.18084        1   \n",
       "1 -0.67825  1.93886  1.43533  0.76096 -0.14277   -0.71126 -0.21575        1   \n",
       "2 -0.46725  0.80523 -0.84732 -1.62090 -1.01450   -1.37983  0.40148        1   \n",
       "3 -0.14882 -0.80615 -0.01928  0.59042  0.58489   -1.37983 -1.18084        1   \n",
       "4  0.73545 -1.63340 -0.45174 -0.30172  1.30612   -0.21712 -0.21575        1   \n",
       "\n",
       "   Amphet  Benzos  Cannabis  Coke  Crack  Ecstasy  Heroin  Ketamine  Drug_Use  \\\n",
       "0       1       1         0     0      0        0       0         0         1   \n",
       "1       1       0         1     1      0        1       0         1         1   \n",
       "2       0       0         0     0      0        0       0         0         0   \n",
       "3       0       1         0     1      0        0       0         1         1   \n",
       "4       0       0         0     0      0        0       0         0         0   \n",
       "\n",
       "   EDU_18  EDU_Some_college  EDU_Cert  EDU_Uni  EDU_Mas  EDU_Doc  Age25_34  \\\n",
       "0       0                 0         1        0        0        0         0   \n",
       "1       0                 0         0        0        0        1         1   \n",
       "2       0                 0         1        0        0        0         0   \n",
       "3       0                 0         0        0        1        0         0   \n",
       "4       0                 0         0        0        0        1         0   \n",
       "\n",
       "   Age35_44  Age45_54  Age55_64  Age65_  Gender  \n",
       "0         1         0         0       0       0  \n",
       "1         0         0         0       0       1  \n",
       "2         1         0         0       0       1  \n",
       "3         0         0         0       0       0  \n",
       "4         1         0         0       0       0  "
      ]
     },
     "execution_count": 8,
     "metadata": {},
     "output_type": "execute_result"
    }
   ],
   "source": [
    "df.drop(['Unnamed: 0'], axis=1, inplace = True)\n",
    "df.head()"
   ]
  },
  {
   "cell_type": "code",
   "execution_count": 9,
   "metadata": {},
   "outputs": [],
   "source": [
    "#Drug_Use = 1 if used Amphet, Benzos, Coke, Crack , Ecstasy or Heroin in the last decade othewise 0\n",
    "#Alcohol and Cannabis were made binary, 1 if used with in the last month otherwise 0\n",
    "#Gender was made binary 1 = male, 0 = female\n",
    "#Education and age were binned and dummied "
   ]
  },
  {
   "cell_type": "code",
   "execution_count": 10,
   "metadata": {},
   "outputs": [
    {
     "data": {
      "image/png": "[encoded data removed]",
      "text/plain": [
       "<Figure size 720x360 with 1 Axes>"
      ]
     },
     "metadata": {},
     "output_type": "display_data"
    },
    {
     "name": "stdout",
     "output_type": "stream",
     "text": [
      "Drug_Use\n",
      "0     759\n",
      "1    1118\n",
      "Name: Drug_Use, dtype: int64\n"
     ]
    }
   ],
   "source": [
    "plt.figure(figsize = (10,5))\n",
    "sns.countplot(df['Drug_Use'], alpha =.80, palette= ['green', 'red'])\n",
    "plt.title('Clean vs Used')\n",
    "plt.ylabel('# of People')\n",
    "plt.xlabel('<=== Clean          Used ===>')\n",
    "plt.show()\n",
    "\n",
    "print(df.groupby(['Drug_Use']).Drug_Use.count())"
   ]
  },
  {
   "cell_type": "code",
   "execution_count": 11,
   "metadata": {},
   "outputs": [
    {
     "data": {
      "text/html": [
       "<div>\n",
       "<style scoped>\n",
       "    .dataframe tbody tr th:only-of-type {\n",
       "        vertical-align: middle;\n",
       "    }\n",
       "\n",
       "    .dataframe tbody tr th {\n",
       "        vertical-align: top;\n",
       "    }\n",
       "\n",
       "    .dataframe thead th {\n",
       "        text-align: right;\n",
       "    }\n",
       "</style>\n",
       "<table border=\"1\" class=\"dataframe\">\n",
       "  <thead>\n",
       "    <tr style=\"text-align: right;\">\n",
       "      <th></th>\n",
       "      <th>Nscore</th>\n",
       "      <th>Oscore</th>\n",
       "      <th>Ascore</th>\n",
       "      <th>Cscore</th>\n",
       "      <th>Impulsive</th>\n",
       "      <th>SS</th>\n",
       "    </tr>\n",
       "  </thead>\n",
       "  <tbody>\n",
       "    <tr>\n",
       "      <th>0</th>\n",
       "      <td>0.31287</td>\n",
       "      <td>-0.58331</td>\n",
       "      <td>-0.91699</td>\n",
       "      <td>-0.00665</td>\n",
       "      <td>-0.21712</td>\n",
       "      <td>-1.18084</td>\n",
       "    </tr>\n",
       "    <tr>\n",
       "      <th>1</th>\n",
       "      <td>-0.67825</td>\n",
       "      <td>1.43533</td>\n",
       "      <td>0.76096</td>\n",
       "      <td>-0.14277</td>\n",
       "      <td>-0.71126</td>\n",
       "      <td>-0.21575</td>\n",
       "    </tr>\n",
       "    <tr>\n",
       "      <th>2</th>\n",
       "      <td>-0.46725</td>\n",
       "      <td>-0.84732</td>\n",
       "      <td>-1.62090</td>\n",
       "      <td>-1.01450</td>\n",
       "      <td>-1.37983</td>\n",
       "      <td>0.40148</td>\n",
       "    </tr>\n",
       "    <tr>\n",
       "      <th>3</th>\n",
       "      <td>-0.14882</td>\n",
       "      <td>-0.01928</td>\n",
       "      <td>0.59042</td>\n",
       "      <td>0.58489</td>\n",
       "      <td>-1.37983</td>\n",
       "      <td>-1.18084</td>\n",
       "    </tr>\n",
       "    <tr>\n",
       "      <th>4</th>\n",
       "      <td>0.73545</td>\n",
       "      <td>-0.45174</td>\n",
       "      <td>-0.30172</td>\n",
       "      <td>1.30612</td>\n",
       "      <td>-0.21712</td>\n",
       "      <td>-0.21575</td>\n",
       "    </tr>\n",
       "  </tbody>\n",
       "</table>\n",
       "</div>"
      ],
      "text/plain": [
       "    Nscore   Oscore   Ascore   Cscore  Impulsive       SS\n",
       "0  0.31287 -0.58331 -0.91699 -0.00665   -0.21712 -1.18084\n",
       "1 -0.67825  1.43533  0.76096 -0.14277   -0.71126 -0.21575\n",
       "2 -0.46725 -0.84732 -1.62090 -1.01450   -1.37983  0.40148\n",
       "3 -0.14882 -0.01928  0.59042  0.58489   -1.37983 -1.18084\n",
       "4  0.73545 -0.45174 -0.30172  1.30612   -0.21712 -0.21575"
      ]
     },
     "execution_count": 11,
     "metadata": {},
     "output_type": "execute_result"
    }
   ],
   "source": [
    "personality_df = data[['Nscore', 'Oscore', 'Ascore', 'Cscore', 'Impulsive', 'SS']]\n",
    "personality_df.head()"
   ]
  },
  {
   "cell_type": "code",
   "execution_count": 12,
   "metadata": {},
   "outputs": [
    {
     "data": {
      "image/png": "[encoded data removed]",
      "text/plain": [
       "<Figure size 432x288 with 1 Axes>"
      ]
     },
     "metadata": {},
     "output_type": "display_data"
    },
    {
     "data": {
      "image/png": "[encoded data removed]",
      "text/plain": [
       "<Figure size 432x288 with 1 Axes>"
      ]
     },
     "metadata": {},
     "output_type": "display_data"
    },
    {
     "data": {
      "image/png": "[encoded data removed]",
      "text/plain": [
       "<Figure size 432x288 with 1 Axes>"
      ]
     },
     "metadata": {},
     "output_type": "display_data"
    },
    {
     "data": {
      "image/png": "[encoded data removed]",
      "text/plain": [
       "<Figure size 432x288 with 1 Axes>"
      ]
     },
     "metadata": {},
     "output_type": "display_data"
    },
    {
     "data": {
      "image/png": "[encoded data removed]",
      "text/plain": [
       "<Figure size 432x288 with 1 Axes>"
      ]
     },
     "metadata": {},
     "output_type": "display_data"
    },
    {
     "data": {
      "image/png": "[encoded data removed]",
      "text/plain": [
       "<Figure size 432x288 with 1 Axes>"
      ]
     },
     "metadata": {},
     "output_type": "display_data"
    }
   ],
   "source": [
    "#personality data was normalized in the orignal data frame \n",
    "for columns in personality_df:\n",
    "    sns.distplot(personality_df[columns])\n",
    "    plt.show()"
   ]
  },
  {
   "cell_type": "code",
   "execution_count": 13,
   "metadata": {},
   "outputs": [
    {
     "data": {
      "text/plain": [
       "Nscore              float64\n",
       "Escore              float64\n",
       "Oscore              float64\n",
       "Ascore              float64\n",
       "Cscore              float64\n",
       "Impulsive           float64\n",
       "SS                  float64\n",
       "Alcohol               int64\n",
       "Amphet                int64\n",
       "Benzos                int64\n",
       "Cannabis              int64\n",
       "Coke                  int64\n",
       "Crack                 int64\n",
       "Ecstasy               int64\n",
       "Heroin                int64\n",
       "Ketamine              int64\n",
       "Drug_Use              int64\n",
       "EDU_18                int64\n",
       "EDU_Some_college      int64\n",
       "EDU_Cert              int64\n",
       "EDU_Uni               int64\n",
       "EDU_Mas               int64\n",
       "EDU_Doc               int64\n",
       "Age25_34              int64\n",
       "Age35_44              int64\n",
       "Age45_54              int64\n",
       "Age55_64              int64\n",
       "Age65_                int64\n",
       "Gender                int64\n",
       "dtype: object"
      ]
     },
     "execution_count": 13,
     "metadata": {},
     "output_type": "execute_result"
    }
   ],
   "source": [
    "#checking data types \n",
    "df.dtypes"
   ]
  },
  {
   "cell_type": "code",
   "execution_count": 14,
   "metadata": {},
   "outputs": [
    {
     "data": {
      "text/plain": [
       "Nscore              0\n",
       "Escore              0\n",
       "Oscore              0\n",
       "Ascore              0\n",
       "Cscore              0\n",
       "Impulsive           0\n",
       "SS                  0\n",
       "Alcohol             0\n",
       "Amphet              0\n",
       "Benzos              0\n",
       "Cannabis            0\n",
       "Coke                0\n",
       "Crack               0\n",
       "Ecstasy             0\n",
       "Heroin              0\n",
       "Ketamine            0\n",
       "Drug_Use            0\n",
       "EDU_18              0\n",
       "EDU_Some_college    0\n",
       "EDU_Cert            0\n",
       "EDU_Uni             0\n",
       "EDU_Mas             0\n",
       "EDU_Doc             0\n",
       "Age25_34            0\n",
       "Age35_44            0\n",
       "Age45_54            0\n",
       "Age55_64            0\n",
       "Age65_              0\n",
       "Gender              0\n",
       "dtype: int64"
      ]
     },
     "execution_count": 14,
     "metadata": {},
     "output_type": "execute_result"
    }
   ],
   "source": [
    "#checking for null values \n",
    "df.isna().sum()"
   ]
  },
  {
   "cell_type": "markdown",
   "metadata": {},
   "source": [
    "## Models "
   ]
  },
  {
   "cell_type": "code",
   "execution_count": 15,
   "metadata": {},
   "outputs": [],
   "source": [
    "from sklearn import metrics\n",
    "from sklearn.model_selection import train_test_split\n",
    "from sklearn.metrics import accuracy_score, f1_score, precision_score\n",
    "from sklearn.metrics import confusion_matrix\n",
    "from sklearn.metrics import classification_report\n",
    "from sklearn.feature_selection import SelectKBest\n",
    "from sklearn.feature_selection import  chi2, f_classif, mutual_info_classif\n",
    "from sklearn.feature_selection import f_regression,mutual_info_regression\n",
    "from sklearn.preprocessing import StandardScaler\n",
    "from sklearn.neighbors import KNeighborsClassifier\n",
    "from sklearn.linear_model import LogisticRegression\n",
    "from sklearn.ensemble import RandomForestClassifier\n",
    "from sklearn.preprocessing import PolynomialFeatures\n",
    "from sklearn.model_selection import GridSearchCV\n",
    "from sklearn.metrics import mean_squared_error, accuracy_score, f1_score, roc_auc_score\n",
    "from sklearn.preprocessing import MinMaxScaler\n",
    "import xgboost as xgb\n",
    "import itertools"
   ]
  },
  {
   "cell_type": "code",
   "execution_count": 16,
   "metadata": {},
   "outputs": [
    {
     "data": {
      "text/html": [
       "<div>\n",
       "<style scoped>\n",
       "    .dataframe tbody tr th:only-of-type {\n",
       "        vertical-align: middle;\n",
       "    }\n",
       "\n",
       "    .dataframe tbody tr th {\n",
       "        vertical-align: top;\n",
       "    }\n",
       "\n",
       "    .dataframe thead th {\n",
       "        text-align: right;\n",
       "    }\n",
       "</style>\n",
       "<table border=\"1\" class=\"dataframe\">\n",
       "  <thead>\n",
       "    <tr style=\"text-align: right;\">\n",
       "      <th></th>\n",
       "      <th>Nscore</th>\n",
       "      <th>Escore</th>\n",
       "      <th>Oscore</th>\n",
       "      <th>Ascore</th>\n",
       "      <th>Cscore</th>\n",
       "      <th>Impulsive</th>\n",
       "      <th>SS</th>\n",
       "      <th>Alcohol</th>\n",
       "      <th>Amphet</th>\n",
       "      <th>Benzos</th>\n",
       "      <th>Cannabis</th>\n",
       "      <th>Coke</th>\n",
       "      <th>Crack</th>\n",
       "      <th>Ecstasy</th>\n",
       "      <th>Heroin</th>\n",
       "      <th>Ketamine</th>\n",
       "      <th>Drug_Use</th>\n",
       "      <th>EDU_18</th>\n",
       "      <th>EDU_Some_college</th>\n",
       "      <th>EDU_Cert</th>\n",
       "      <th>EDU_Uni</th>\n",
       "      <th>EDU_Mas</th>\n",
       "      <th>EDU_Doc</th>\n",
       "      <th>Age25_34</th>\n",
       "      <th>Age35_44</th>\n",
       "      <th>Age45_54</th>\n",
       "      <th>Age55_64</th>\n",
       "      <th>Age65_</th>\n",
       "      <th>Gender</th>\n",
       "    </tr>\n",
       "  </thead>\n",
       "  <tbody>\n",
       "    <tr>\n",
       "      <th>0</th>\n",
       "      <td>0.31287</td>\n",
       "      <td>-0.57545</td>\n",
       "      <td>-0.58331</td>\n",
       "      <td>-0.91699</td>\n",
       "      <td>-0.00665</td>\n",
       "      <td>-0.21712</td>\n",
       "      <td>-1.18084</td>\n",
       "      <td>1</td>\n",
       "      <td>1</td>\n",
       "      <td>1</td>\n",
       "      <td>0</td>\n",
       "      <td>0</td>\n",
       "      <td>0</td>\n",
       "      <td>0</td>\n",
       "      <td>0</td>\n",
       "      <td>0</td>\n",
       "      <td>1</td>\n",
       "      <td>0</td>\n",
       "      <td>0</td>\n",
       "      <td>1</td>\n",
       "      <td>0</td>\n",
       "      <td>0</td>\n",
       "      <td>0</td>\n",
       "      <td>0</td>\n",
       "      <td>1</td>\n",
       "      <td>0</td>\n",
       "      <td>0</td>\n",
       "      <td>0</td>\n",
       "      <td>0</td>\n",
       "    </tr>\n",
       "    <tr>\n",
       "      <th>1</th>\n",
       "      <td>-0.67825</td>\n",
       "      <td>1.93886</td>\n",
       "      <td>1.43533</td>\n",
       "      <td>0.76096</td>\n",
       "      <td>-0.14277</td>\n",
       "      <td>-0.71126</td>\n",
       "      <td>-0.21575</td>\n",
       "      <td>1</td>\n",
       "      <td>1</td>\n",
       "      <td>0</td>\n",
       "      <td>1</td>\n",
       "      <td>1</td>\n",
       "      <td>0</td>\n",
       "      <td>1</td>\n",
       "      <td>0</td>\n",
       "      <td>1</td>\n",
       "      <td>1</td>\n",
       "      <td>0</td>\n",
       "      <td>0</td>\n",
       "      <td>0</td>\n",
       "      <td>0</td>\n",
       "      <td>0</td>\n",
       "      <td>1</td>\n",
       "      <td>1</td>\n",
       "      <td>0</td>\n",
       "      <td>0</td>\n",
       "      <td>0</td>\n",
       "      <td>0</td>\n",
       "      <td>1</td>\n",
       "    </tr>\n",
       "    <tr>\n",
       "      <th>2</th>\n",
       "      <td>-0.46725</td>\n",
       "      <td>0.80523</td>\n",
       "      <td>-0.84732</td>\n",
       "      <td>-1.62090</td>\n",
       "      <td>-1.01450</td>\n",
       "      <td>-1.37983</td>\n",
       "      <td>0.40148</td>\n",
       "      <td>1</td>\n",
       "      <td>0</td>\n",
       "      <td>0</td>\n",
       "      <td>0</td>\n",
       "      <td>0</td>\n",
       "      <td>0</td>\n",
       "      <td>0</td>\n",
       "      <td>0</td>\n",
       "      <td>0</td>\n",
       "      <td>0</td>\n",
       "      <td>0</td>\n",
       "      <td>0</td>\n",
       "      <td>1</td>\n",
       "      <td>0</td>\n",
       "      <td>0</td>\n",
       "      <td>0</td>\n",
       "      <td>0</td>\n",
       "      <td>1</td>\n",
       "      <td>0</td>\n",
       "      <td>0</td>\n",
       "      <td>0</td>\n",
       "      <td>1</td>\n",
       "    </tr>\n",
       "    <tr>\n",
       "      <th>3</th>\n",
       "      <td>-0.14882</td>\n",
       "      <td>-0.80615</td>\n",
       "      <td>-0.01928</td>\n",
       "      <td>0.59042</td>\n",
       "      <td>0.58489</td>\n",
       "      <td>-1.37983</td>\n",
       "      <td>-1.18084</td>\n",
       "      <td>1</td>\n",
       "      <td>0</td>\n",
       "      <td>1</td>\n",
       "      <td>0</td>\n",
       "      <td>1</td>\n",
       "      <td>0</td>\n",
       "      <td>0</td>\n",
       "      <td>0</td>\n",
       "      <td>1</td>\n",
       "      <td>1</td>\n",
       "      <td>0</td>\n",
       "      <td>0</td>\n",
       "      <td>0</td>\n",
       "      <td>0</td>\n",
       "      <td>1</td>\n",
       "      <td>0</td>\n",
       "      <td>0</td>\n",
       "      <td>0</td>\n",
       "      <td>0</td>\n",
       "      <td>0</td>\n",
       "      <td>0</td>\n",
       "      <td>0</td>\n",
       "    </tr>\n",
       "    <tr>\n",
       "      <th>4</th>\n",
       "      <td>0.73545</td>\n",
       "      <td>-1.63340</td>\n",
       "      <td>-0.45174</td>\n",
       "      <td>-0.30172</td>\n",
       "      <td>1.30612</td>\n",
       "      <td>-0.21712</td>\n",
       "      <td>-0.21575</td>\n",
       "      <td>1</td>\n",
       "      <td>0</td>\n",
       "      <td>0</td>\n",
       "      <td>0</td>\n",
       "      <td>0</td>\n",
       "      <td>0</td>\n",
       "      <td>0</td>\n",
       "      <td>0</td>\n",
       "      <td>0</td>\n",
       "      <td>0</td>\n",
       "      <td>0</td>\n",
       "      <td>0</td>\n",
       "      <td>0</td>\n",
       "      <td>0</td>\n",
       "      <td>0</td>\n",
       "      <td>1</td>\n",
       "      <td>0</td>\n",
       "      <td>1</td>\n",
       "      <td>0</td>\n",
       "      <td>0</td>\n",
       "      <td>0</td>\n",
       "      <td>0</td>\n",
       "    </tr>\n",
       "  </tbody>\n",
       "</table>\n",
       "</div>"
      ],
      "text/plain": [
       "    Nscore   Escore   Oscore   Ascore   Cscore  Impulsive       SS  Alcohol  \\\n",
       "0  0.31287 -0.57545 -0.58331 -0.91699 -0.00665   -0.21712 -1.18084        1   \n",
       "1 -0.67825  1.93886  1.43533  0.76096 -0.14277   -0.71126 -0.21575        1   \n",
       "2 -0.46725  0.80523 -0.84732 -1.62090 -1.01450   -1.37983  0.40148        1   \n",
       "3 -0.14882 -0.80615 -0.01928  0.59042  0.58489   -1.37983 -1.18084        1   \n",
       "4  0.73545 -1.63340 -0.45174 -0.30172  1.30612   -0.21712 -0.21575        1   \n",
       "\n",
       "   Amphet  Benzos  Cannabis  Coke  Crack  Ecstasy  Heroin  Ketamine  Drug_Use  \\\n",
       "0       1       1         0     0      0        0       0         0         1   \n",
       "1       1       0         1     1      0        1       0         1         1   \n",
       "2       0       0         0     0      0        0       0         0         0   \n",
       "3       0       1         0     1      0        0       0         1         1   \n",
       "4       0       0         0     0      0        0       0         0         0   \n",
       "\n",
       "   EDU_18  EDU_Some_college  EDU_Cert  EDU_Uni  EDU_Mas  EDU_Doc  Age25_34  \\\n",
       "0       0                 0         1        0        0        0         0   \n",
       "1       0                 0         0        0        0        1         1   \n",
       "2       0                 0         1        0        0        0         0   \n",
       "3       0                 0         0        0        1        0         0   \n",
       "4       0                 0         0        0        0        1         0   \n",
       "\n",
       "   Age35_44  Age45_54  Age55_64  Age65_  Gender  \n",
       "0         1         0         0       0       0  \n",
       "1         0         0         0       0       1  \n",
       "2         1         0         0       0       1  \n",
       "3         0         0         0       0       0  \n",
       "4         1         0         0       0       0  "
      ]
     },
     "execution_count": 16,
     "metadata": {},
     "output_type": "execute_result"
    }
   ],
   "source": [
    "df.head()"
   ]
  },
  {
   "cell_type": "code",
   "execution_count": 17,
   "metadata": {},
   "outputs": [],
   "source": [
    "#split \n",
    "X = df.drop(['Drug_Use', 'Ketamine', 'Amphet', 'Benzos', 'Coke', 'Crack', 'Ecstasy', 'Heroin'], axis=1)\n",
    "y = df.Drug_Use"
   ]
  },
  {
   "cell_type": "code",
   "execution_count": 18,
   "metadata": {},
   "outputs": [],
   "source": [
    "X_train, X_test, y_train, y_test = train_test_split(X, y, random_state=99, test_size=0.25) "
   ]
  },
  {
   "cell_type": "code",
   "execution_count": 19,
   "metadata": {},
   "outputs": [],
   "source": [
    "#scale\n",
    "scaler = StandardScaler()\n",
    "\n",
    "scaler.fit(X_train)\n",
    "X_train = scaler.transform(X_train)\n",
    "\n",
    "scaler.fit(X_test)\n",
    "X_test = scaler.transform(X_test)"
   ]
  },
  {
   "cell_type": "code",
   "execution_count": 20,
   "metadata": {},
   "outputs": [
    {
     "data": {
      "text/plain": [
       "(1407, 470)"
      ]
     },
     "execution_count": 20,
     "metadata": {},
     "output_type": "execute_result"
    }
   ],
   "source": [
    "len(y_train), len(y_test)"
   ]
  },
  {
   "cell_type": "code",
   "execution_count": 21,
   "metadata": {},
   "outputs": [
    {
     "data": {
      "image/png": "[encoded data removed]",
      "text/plain": [
       "<Figure size 1080x1080 with 2 Axes>"
      ]
     },
     "metadata": {},
     "output_type": "display_data"
    }
   ],
   "source": [
    "heatmap_corr(X)"
   ]
  },
  {
   "cell_type": "markdown",
   "metadata": {},
   "source": [
    "## Logistic Regression "
   ]
  },
  {
   "cell_type": "code",
   "execution_count": 22,
   "metadata": {},
   "outputs": [
    {
     "name": "stdout",
     "output_type": "stream",
     "text": [
      "LOGISTIC REGRESSION\n",
      "--------------------------------------------------------------------------------\n",
      "Confusion Matrix\n",
      "--------------------------------------------------------------------------------\n",
      "[[153  50]\n",
      " [ 56 211]]\n",
      "--------------------------------------------------------------------------------\n",
      "Classification Report\n",
      "--------------------------------------------------------------------------------\n",
      "              precision    recall  f1-score   support\n",
      "\n",
      "           0       0.73      0.75      0.74       203\n",
      "           1       0.81      0.79      0.80       267\n",
      "\n",
      "    accuracy                           0.77       470\n",
      "   macro avg       0.77      0.77      0.77       470\n",
      "weighted avg       0.78      0.77      0.77       470\n",
      "\n",
      "--------------------------------------------------------------------------------\n",
      "F1 score: 0.799\n"
     ]
    }
   ],
   "source": [
    "# Logistic regression\n",
    "from sklearn import metrics\n",
    "from sklearn.linear_model import LogisticRegression\n",
    "from sklearn.metrics import classification_report, confusion_matrix\n",
    "\n",
    "lr = LogisticRegression(penalty='l1', solver='saga', multi_class='multinomial')\n",
    "lr.fit(X_test, y_test)\n",
    "y_pred_lr = lr.predict(X_test)\n",
    "\n",
    "def print_report(y_test, y_pred):\n",
    "\n",
    "    print('LOGISTIC REGRESSION')\n",
    "    print('--'*40)\n",
    "    print('Confusion Matrix')\n",
    "    print('--'*40)\n",
    "    print(confusion_matrix(y_test, y_pred))\n",
    "    print('--'*40)\n",
    "    print('Classification Report')\n",
    "    print('--'*40)\n",
    "    print(classification_report(y_test, y_pred, output_dict= False))\n",
    "    print('--'*40)\n",
    "    p0t2= round(f1_score(y_test, y_pred), 3)\n",
    "    print(f'F1 score: {p0t2}')\n",
    "\n",
    "print_report(y_test, y_pred_lr)"
   ]
  },
  {
   "cell_type": "code",
   "execution_count": 23,
   "metadata": {},
   "outputs": [
    {
     "name": "stdout",
     "output_type": "stream",
     "text": [
      "Confusion Matrix, without normalization\n",
      "[[153  50]\n",
      " [ 56 211]]\n"
     ]
    },
    {
     "data": {
      "image/png": "[encoded data removed]",
      "text/plain": [
       "<Figure size 432x288 with 2 Axes>"
      ]
     },
     "metadata": {},
     "output_type": "display_data"
    }
   ],
   "source": [
    "from sklearn.metrics import confusion_matrix\n",
    "cm = confusion_matrix(y_test,y_pred_lr)\n",
    "classes = ['Clean', 'Used']\n",
    "plot_confusion_matrix(cm, classes,\n",
    "                          normalize=False,\n",
    "                          title='Confusion matrix',\n",
    "                          cmap=plt.cm.Greens)"
   ]
  },
  {
   "cell_type": "markdown",
   "metadata": {},
   "source": [
    "### Log Reg Grid Search"
   ]
  },
  {
   "cell_type": "code",
   "execution_count": 24,
   "metadata": {},
   "outputs": [
    {
     "name": "stderr",
     "output_type": "stream",
     "text": [
      "C:\\Users\\Royce\\anaconda3\\lib\\site-packages\\sklearn\\linear_model\\_logistic.py:1320: UserWarning: Setting penalty='none' will ignore the C and l1_ratio parameters\n",
      "  warnings.warn(\n",
      "C:\\Users\\Royce\\anaconda3\\lib\\site-packages\\sklearn\\linear_model\\_logistic.py:1320: UserWarning: Setting penalty='none' will ignore the C and l1_ratio parameters\n",
      "  warnings.warn(\n",
      "C:\\Users\\Royce\\anaconda3\\lib\\site-packages\\sklearn\\linear_model\\_logistic.py:1320: UserWarning: Setting penalty='none' will ignore the C and l1_ratio parameters\n",
      "  warnings.warn(\n",
      "C:\\Users\\Royce\\anaconda3\\lib\\site-packages\\sklearn\\linear_model\\_logistic.py:1320: UserWarning: Setting penalty='none' will ignore the C and l1_ratio parameters\n",
      "  warnings.warn(\n",
      "C:\\Users\\Royce\\anaconda3\\lib\\site-packages\\sklearn\\linear_model\\_logistic.py:1320: UserWarning: Setting penalty='none' will ignore the C and l1_ratio parameters\n",
      "  warnings.warn(\n",
      "C:\\Users\\Royce\\anaconda3\\lib\\site-packages\\sklearn\\linear_model\\_logistic.py:1320: UserWarning: Setting penalty='none' will ignore the C and l1_ratio parameters\n",
      "  warnings.warn(\n",
      "C:\\Users\\Royce\\anaconda3\\lib\\site-packages\\sklearn\\linear_model\\_logistic.py:1320: UserWarning: Setting penalty='none' will ignore the C and l1_ratio parameters\n",
      "  warnings.warn(\n",
      "C:\\Users\\Royce\\anaconda3\\lib\\site-packages\\sklearn\\linear_model\\_logistic.py:1320: UserWarning: Setting penalty='none' will ignore the C and l1_ratio parameters\n",
      "  warnings.warn(\n",
      "C:\\Users\\Royce\\anaconda3\\lib\\site-packages\\sklearn\\linear_model\\_logistic.py:1320: UserWarning: Setting penalty='none' will ignore the C and l1_ratio parameters\n",
      "  warnings.warn(\n",
      "C:\\Users\\Royce\\anaconda3\\lib\\site-packages\\sklearn\\linear_model\\_logistic.py:1320: UserWarning: Setting penalty='none' will ignore the C and l1_ratio parameters\n",
      "  warnings.warn(\n"
     ]
    },
    {
     "name": "stdout",
     "output_type": "stream",
     "text": [
      "0.8112764676963661\n",
      "{'C': 0.25, 'penalty': 'l1'}\n",
      "LogisticRegression(C=0.25, penalty='l1', solver='saga')\n",
      "F1_score: 0.776173285198556\n"
     ]
    },
    {
     "name": "stderr",
     "output_type": "stream",
     "text": [
      "C:\\Users\\Royce\\anaconda3\\lib\\site-packages\\sklearn\\linear_model\\_logistic.py:1320: UserWarning: Setting penalty='none' will ignore the C and l1_ratio parameters\n",
      "  warnings.warn(\n",
      "C:\\Users\\Royce\\anaconda3\\lib\\site-packages\\sklearn\\linear_model\\_logistic.py:1320: UserWarning: Setting penalty='none' will ignore the C and l1_ratio parameters\n",
      "  warnings.warn(\n",
      "C:\\Users\\Royce\\anaconda3\\lib\\site-packages\\sklearn\\linear_model\\_logistic.py:1320: UserWarning: Setting penalty='none' will ignore the C and l1_ratio parameters\n",
      "  warnings.warn(\n",
      "C:\\Users\\Royce\\anaconda3\\lib\\site-packages\\sklearn\\linear_model\\_logistic.py:1320: UserWarning: Setting penalty='none' will ignore the C and l1_ratio parameters\n",
      "  warnings.warn(\n",
      "C:\\Users\\Royce\\anaconda3\\lib\\site-packages\\sklearn\\linear_model\\_logistic.py:1320: UserWarning: Setting penalty='none' will ignore the C and l1_ratio parameters\n",
      "  warnings.warn(\n"
     ]
    }
   ],
   "source": [
    "# instantiate a model\n",
    "logreg= LogisticRegression(solver= 'saga')\n",
    "\n",
    "# create parameters to test\n",
    "parameters= {'penalty': ['l1', 'l2', 'none'],\n",
    "             'C': [0.25, 0.5, 0.75],\n",
    "            }\n",
    "#\n",
    "grid_logreg= GridSearchCV(logreg, param_grid= parameters, cv=5, scoring='f1')\n",
    "\n",
    "#\n",
    "grid_logreg= grid_logreg.fit(X_train,y_train)\n",
    "\n",
    "#\n",
    "print(grid_logreg.best_score_)\n",
    "\n",
    "#\n",
    "print(grid_logreg.best_params_)\n",
    "\n",
    "#\n",
    "print(grid_logreg.best_estimator_)\n",
    "\n",
    "#Predict the response for test dataset\n",
    "y_pred = grid_logreg.best_estimator_.predict(X_test)\n",
    "\n",
    "# Model Accuracy, how often is the classifier correct?\n",
    "print(\"F1_score:\", f1_score(y_test, y_pred))"
   ]
  },
  {
   "cell_type": "markdown",
   "metadata": {},
   "source": [
    "## Random Forest "
   ]
  },
  {
   "cell_type": "code",
   "execution_count": 25,
   "metadata": {},
   "outputs": [
    {
     "data": {
      "text/plain": [
       "RandomForestClassifier(random_state=23)"
      ]
     },
     "execution_count": 25,
     "metadata": {},
     "output_type": "execute_result"
    }
   ],
   "source": [
    "rfc = RandomForestClassifier(random_state = 23)\n",
    "rfc"
   ]
  },
  {
   "cell_type": "code",
   "execution_count": 26,
   "metadata": {},
   "outputs": [
    {
     "data": {
      "text/plain": [
       "RandomForestClassifier(random_state=23)"
      ]
     },
     "execution_count": 26,
     "metadata": {},
     "output_type": "execute_result"
    }
   ],
   "source": [
    "#fit the model to the training data\n",
    "rfc.fit(X_train, y_train)"
   ]
  },
  {
   "cell_type": "code",
   "execution_count": 27,
   "metadata": {},
   "outputs": [
    {
     "name": "stdout",
     "output_type": "stream",
     "text": [
      "Test Accuracy score:  0.7553191489361702\n",
      "Test F1 score:  0.7920433996383364\n"
     ]
    }
   ],
   "source": [
    "#use the fitted model to predict on the test data\n",
    "rfc_pred = rfc.predict(X_test)\n",
    "\n",
    "# checking accuracy on the test data\n",
    "print('Test Accuracy score: ', accuracy_score(y_test, rfc_pred))\n",
    "\n",
    "# checking accuracy on the test data\n",
    "print('Test F1 score: ', f1_score(y_test, rfc_pred))"
   ]
  },
  {
   "cell_type": "markdown",
   "metadata": {},
   "source": [
    "### Random Forest Grid Search"
   ]
  },
  {
   "cell_type": "code",
   "execution_count": 28,
   "metadata": {},
   "outputs": [],
   "source": [
    "param_grid = { \n",
    "    'n_estimators': [200, 500],\n",
    "    'max_features': ['auto', 'sqrt', 'log2'],\n",
    "    'max_depth' : [4,5,6,7,8],\n",
    "    'criterion' :['gini', 'entropy']\n",
    "}"
   ]
  },
  {
   "cell_type": "code",
   "execution_count": 29,
   "metadata": {},
   "outputs": [
    {
     "data": {
      "text/plain": [
       "GridSearchCV(cv=5, estimator=RandomForestClassifier(random_state=23),\n",
       "             param_grid={'criterion': ['gini', 'entropy'],\n",
       "                         'max_depth': [4, 5, 6, 7, 8],\n",
       "                         'max_features': ['auto', 'sqrt', 'log2'],\n",
       "                         'n_estimators': [200, 500]})"
      ]
     },
     "execution_count": 29,
     "metadata": {},
     "output_type": "execute_result"
    }
   ],
   "source": [
    "CV_rfc = GridSearchCV(estimator=rfc, param_grid=param_grid, cv= 5)\n",
    "CV_rfc.fit(X_train, y_train)"
   ]
  },
  {
   "cell_type": "code",
   "execution_count": 30,
   "metadata": {},
   "outputs": [
    {
     "data": {
      "text/plain": [
       "{'criterion': 'entropy',\n",
       " 'max_depth': 7,\n",
       " 'max_features': 'auto',\n",
       " 'n_estimators': 200}"
      ]
     },
     "execution_count": 30,
     "metadata": {},
     "output_type": "execute_result"
    }
   ],
   "source": [
    "CV_rfc.best_params_"
   ]
  },
  {
   "cell_type": "code",
   "execution_count": 31,
   "metadata": {},
   "outputs": [],
   "source": [
    "rfc1=RandomForestClassifier(random_state=23, \n",
    "                            max_features='auto',\n",
    "                            n_estimators= 200, \n",
    "                            max_depth=7, \n",
    "                            criterion='entropy')"
   ]
  },
  {
   "cell_type": "code",
   "execution_count": 32,
   "metadata": {},
   "outputs": [
    {
     "data": {
      "text/plain": [
       "RandomForestClassifier(criterion='entropy', max_depth=7, n_estimators=200,\n",
       "                       random_state=23)"
      ]
     },
     "execution_count": 32,
     "metadata": {},
     "output_type": "execute_result"
    }
   ],
   "source": [
    "rfc1.fit(X_train, y_train)"
   ]
  },
  {
   "cell_type": "code",
   "execution_count": 33,
   "metadata": {},
   "outputs": [],
   "source": [
    "pred=rfc1.predict(X_test)"
   ]
  },
  {
   "cell_type": "code",
   "execution_count": 34,
   "metadata": {},
   "outputs": [
    {
     "name": "stdout",
     "output_type": "stream",
     "text": [
      "Accuracy:  0.7553191489361702\n",
      "F1 Score:  0.7957371225577264\n"
     ]
    }
   ],
   "source": [
    "#Accuracy and F1 score for CV data\n",
    "print(\"Accuracy: \",accuracy_score(y_test,pred))\n",
    "\n",
    "print(\"F1 Score: \", f1_score(y_test,pred))"
   ]
  },
  {
   "cell_type": "markdown",
   "metadata": {},
   "source": [
    "## KNN "
   ]
  },
  {
   "cell_type": "code",
   "execution_count": 35,
   "metadata": {},
   "outputs": [
    {
     "data": {
      "image/png": "[encoded data removed]",
      "text/plain": [
       "<Figure size 864x432 with 1 Axes>"
      ]
     },
     "metadata": {},
     "output_type": "display_data"
    },
    {
     "name": "stdout",
     "output_type": "stream",
     "text": [
      "F1_score max:0.7865 where K: 143\n"
     ]
    }
   ],
   "source": [
    "k_scores = []\n",
    "k_range= list(range(1, 150, 2))\n",
    "for k in k_range:\n",
    "    knn = KNeighborsClassifier(n_neighbors = k, p=2)\n",
    "    knn.fit(X_train, y_train)\n",
    "    y_pred_k = knn.predict(X_test)\n",
    "    k_scores.append(f1_score(y_test, y_pred_k, pos_label= 1))\n",
    "\n",
    "# plot\n",
    "plt.figure(figsize=(12, 6))  \n",
    "plt.plot(k_range, k_scores, color='green', linestyle=':', marker='o',  \n",
    "         markerfacecolor='red', markersize=5)\n",
    "plt.title('F1 score by K Value')  \n",
    "plt.xlabel('K Value')  \n",
    "plt.ylabel('F1 Score') \n",
    "plt.show()\n",
    "\n",
    "# display parametrs \n",
    "print(f'F1_score max:{round(max(k_scores), 4)} where K: {(k_scores.index(max(k_scores))+1)*2 - 1}')\n",
    "k= (k_scores.index(max(k_scores))+1)*2 - 1"
   ]
  },
  {
   "cell_type": "code",
   "execution_count": 36,
   "metadata": {},
   "outputs": [
    {
     "data": {
      "text/plain": [
       "0.7340425531914894"
      ]
     },
     "execution_count": 36,
     "metadata": {},
     "output_type": "execute_result"
    }
   ],
   "source": [
    "y_pred_class = knn.predict(X_test)\n",
    "accuracy_score(y_test, y_pred_class, normalize=True, sample_weight=None)"
   ]
  },
  {
   "cell_type": "code",
   "execution_count": 37,
   "metadata": {},
   "outputs": [
    {
     "name": "stdout",
     "output_type": "stream",
     "text": [
      "Confusion Matrix, without normalization\n",
      "[[125  78]\n",
      " [ 47 220]]\n"
     ]
    },
    {
     "data": {
      "image/png": "[encoded data removed]",
      "text/plain": [
       "<Figure size 432x288 with 2 Axes>"
      ]
     },
     "metadata": {},
     "output_type": "display_data"
    }
   ],
   "source": [
    "from sklearn.metrics import confusion_matrix\n",
    "cm = confusion_matrix(y_test,y_pred_class)\n",
    "classes = ['Clean', 'Used']\n",
    "plot_confusion_matrix(cm, classes,\n",
    "                          normalize=False,\n",
    "                          title='Confusion matrix',\n",
    "                          cmap=plt.cm.Greens)"
   ]
  },
  {
   "cell_type": "markdown",
   "metadata": {},
   "source": [
    "### KNN Grid Search "
   ]
  },
  {
   "cell_type": "code",
   "execution_count": 38,
   "metadata": {},
   "outputs": [
    {
     "name": "stdout",
     "output_type": "stream",
     "text": [
      "0.8205929963282905\n",
      "{'n_neighbors': 147, 'p': 1}\n",
      "KNeighborsClassifier(n_neighbors=147, p=1)\n",
      "F1_score: 0.7827648114901257\n"
     ]
    }
   ],
   "source": [
    "# instantiate a model\n",
    "knn= KNeighborsClassifier()\n",
    "\n",
    "# create parameters to test\n",
    "parameters= {'n_neighbors': range(1, 200, 2),\n",
    "             'p': range(1, 3)\n",
    "            }\n",
    "#\n",
    "grid_knn= GridSearchCV(estimator= knn, param_grid= parameters, cv=5, scoring='f1')\n",
    "\n",
    "#\n",
    "grid_knn= grid_knn.fit(X_train,y_train)\n",
    "\n",
    "#\n",
    "print(grid_knn.best_score_)\n",
    "\n",
    "# \n",
    "print(grid_knn.best_params_)\n",
    "\n",
    "# \n",
    "print(grid_knn.best_estimator_)\n",
    "\n",
    "#\n",
    "y_pred = grid_knn.best_estimator_.predict(X_test)\n",
    "\n",
    "#\n",
    "print(\"F1_score:\", f1_score(y_test, y_pred))"
   ]
  },
  {
   "cell_type": "markdown",
   "metadata": {},
   "source": [
    "## XGBoost "
   ]
  },
  {
   "cell_type": "code",
   "execution_count": 39,
   "metadata": {},
   "outputs": [
    {
     "data": {
      "text/plain": [
       "XGBClassifier(base_score=None, booster=None, colsample_bylevel=None,\n",
       "              colsample_bynode=None, colsample_bytree=None, gamma=None,\n",
       "              gpu_id=None, importance_type='gain', interaction_constraints=None,\n",
       "              learning_rate=None, max_delta_step=None, max_depth=None,\n",
       "              min_child_weight=None, missing=nan, monotone_constraints=None,\n",
       "              n_estimators=100, n_jobs=None, num_parallel_tree=None,\n",
       "              random_state=None, reg_alpha=None, reg_lambda=None,\n",
       "              scale_pos_weight=None, subsample=None, tree_method=None,\n",
       "              validate_parameters=None, verbosity=None)"
      ]
     },
     "execution_count": 39,
     "metadata": {},
     "output_type": "execute_result"
    }
   ],
   "source": [
    "xgb.XGBClassifier()"
   ]
  },
  {
   "cell_type": "code",
   "execution_count": 40,
   "metadata": {},
   "outputs": [],
   "source": [
    "xg_clf = xgb.XGBClassifier(objective ='binary:logistic', \n",
    "                           colsample_bytree = 0.3, \n",
    "                           learning_rate = 0.1,\n",
    "                           max_depth = 2, \n",
    "                           alpha = 1, \n",
    "                           n_estimators = 100)"
   ]
  },
  {
   "cell_type": "code",
   "execution_count": 41,
   "metadata": {},
   "outputs": [
    {
     "data": {
      "text/plain": [
       "XGBClassifier(alpha=1, base_score=0.5, booster='gbtree', colsample_bylevel=1,\n",
       "              colsample_bynode=1, colsample_bytree=0.3, gamma=0, gpu_id=-1,\n",
       "              importance_type='gain', interaction_constraints='',\n",
       "              learning_rate=0.1, max_delta_step=0, max_depth=2,\n",
       "              min_child_weight=1, missing=nan, monotone_constraints='()',\n",
       "              n_estimators=100, n_jobs=0, num_parallel_tree=1, random_state=0,\n",
       "              reg_alpha=1, reg_lambda=1, scale_pos_weight=1, subsample=1,\n",
       "              tree_method='exact', validate_parameters=1, verbosity=None)"
      ]
     },
     "execution_count": 41,
     "metadata": {},
     "output_type": "execute_result"
    }
   ],
   "source": [
    "xg_clf.fit(X_train,y_train)"
   ]
  },
  {
   "cell_type": "code",
   "execution_count": 42,
   "metadata": {},
   "outputs": [
    {
     "name": "stdout",
     "output_type": "stream",
     "text": [
      "Accuracy: 0.751064\n",
      "F1: 0.789189\n"
     ]
    }
   ],
   "source": [
    "preds = xg_clf.predict(X_test)\n",
    "\n",
    "test_f1 = f1_score(y_test, preds)\n",
    "test_acc = accuracy_score(y_test, preds)\n",
    "\n",
    "print(\"Accuracy: %f\" % (test_acc))\n",
    "print(\"F1: %f\" % (test_f1))"
   ]
  },
  {
   "cell_type": "markdown",
   "metadata": {},
   "source": [
    "### XGBoost Grid Search"
   ]
  },
  {
   "cell_type": "code",
   "execution_count": 43,
   "metadata": {},
   "outputs": [],
   "source": [
    "xgb_model = xgb.XGBClassifier()"
   ]
  },
  {
   "cell_type": "code",
   "execution_count": 44,
   "metadata": {},
   "outputs": [],
   "source": [
    "parameters = {'nthread':[1, 2, 3, 4], \n",
    "              'objective':['binary:logistic'],\n",
    "              'learning_rate': [0.05], \n",
    "              'max_depth': [5, 6, 7, 8],\n",
    "              'n_estimators': [1000]\n",
    "              }"
   ]
  },
  {
   "cell_type": "code",
   "execution_count": 45,
   "metadata": {},
   "outputs": [
    {
     "data": {
      "text/plain": [
       "GridSearchCV(cv=5,\n",
       "             estimator=XGBClassifier(base_score=None, booster=None,\n",
       "                                     colsample_bylevel=None,\n",
       "                                     colsample_bynode=None,\n",
       "                                     colsample_bytree=None, gamma=None,\n",
       "                                     gpu_id=None, importance_type='gain',\n",
       "                                     interaction_constraints=None,\n",
       "                                     learning_rate=None, max_delta_step=None,\n",
       "                                     max_depth=None, min_child_weight=None,\n",
       "                                     missing=nan, monotone_constraints=None,\n",
       "                                     n_estimators=100, n_jobs=None,\n",
       "                                     num_parallel_tree=None, random_state=None,\n",
       "                                     reg_alpha=None, reg_lambda=None,\n",
       "                                     scale_pos_weight=None, subsample=None,\n",
       "                                     tree_method=None, validate_parameters=None,\n",
       "                                     verbosity=None),\n",
       "             param_grid={'learning_rate': [0.05], 'max_depth': [5, 6, 7, 8],\n",
       "                         'n_estimators': [1000], 'nthread': [1, 2, 3, 4],\n",
       "                         'objective': ['binary:logistic']})"
      ]
     },
     "execution_count": 45,
     "metadata": {},
     "output_type": "execute_result"
    }
   ],
   "source": [
    "CV_xgb = GridSearchCV(estimator=xgb_model, param_grid=parameters, cv= 5)\n",
    "CV_xgb.fit(X_train, y_train)"
   ]
  },
  {
   "cell_type": "code",
   "execution_count": 46,
   "metadata": {},
   "outputs": [
    {
     "data": {
      "text/plain": [
       "{'learning_rate': 0.05,\n",
       " 'max_depth': 8,\n",
       " 'n_estimators': 1000,\n",
       " 'nthread': 1,\n",
       " 'objective': 'binary:logistic'}"
      ]
     },
     "execution_count": 46,
     "metadata": {},
     "output_type": "execute_result"
    }
   ],
   "source": [
    "CV_xgb.best_params_"
   ]
  },
  {
   "cell_type": "code",
   "execution_count": 47,
   "metadata": {},
   "outputs": [],
   "source": [
    "xgb_1 = xgb.XGBClassifier(objective ='binary:logistic', \n",
    "                           colsample_bytree = 0.3, \n",
    "                           learning_rate = 0.5,\n",
    "                           max_depth = 8, \n",
    "                           alpha = 1, \n",
    "                           n_estimators = 1000,\n",
    "                           nthread= 1)"
   ]
  },
  {
   "cell_type": "code",
   "execution_count": 48,
   "metadata": {},
   "outputs": [
    {
     "data": {
      "text/plain": [
       "XGBClassifier(alpha=1, base_score=0.5, booster='gbtree', colsample_bylevel=1,\n",
       "              colsample_bynode=1, colsample_bytree=0.3, gamma=0, gpu_id=-1,\n",
       "              importance_type='gain', interaction_constraints='',\n",
       "              learning_rate=0.5, max_delta_step=0, max_depth=8,\n",
       "              min_child_weight=1, missing=nan, monotone_constraints='()',\n",
       "              n_estimators=1000, n_jobs=1, nthread=1, num_parallel_tree=1,\n",
       "              random_state=0, reg_alpha=1, reg_lambda=1, scale_pos_weight=1,\n",
       "              subsample=1, tree_method='exact', validate_parameters=1,\n",
       "              verbosity=None)"
      ]
     },
     "execution_count": 48,
     "metadata": {},
     "output_type": "execute_result"
    }
   ],
   "source": [
    "xgb_1.fit(X_train,y_train)"
   ]
  },
  {
   "cell_type": "code",
   "execution_count": 49,
   "metadata": {},
   "outputs": [
    {
     "name": "stdout",
     "output_type": "stream",
     "text": [
      "Accuracy: 0.731915\n",
      "F1: 0.774194\n"
     ]
    }
   ],
   "source": [
    "preds2 = xgb_1.predict(X_test)\n",
    "\n",
    "test_f1 = f1_score(y_test, preds2)\n",
    "test_acc = accuracy_score(y_test, preds2)\n",
    "\n",
    "print(\"Accuracy: %f\" % (test_acc))\n",
    "print(\"F1: %f\" % (test_f1))"
   ]
  },
  {
   "cell_type": "markdown",
   "metadata": {},
   "source": [
    "### Polynomial Features "
   ]
  },
  {
   "cell_type": "code",
   "execution_count": 50,
   "metadata": {},
   "outputs": [
    {
     "data": {
      "text/html": [
       "<div>\n",
       "<style scoped>\n",
       "    .dataframe tbody tr th:only-of-type {\n",
       "        vertical-align: middle;\n",
       "    }\n",
       "\n",
       "    .dataframe tbody tr th {\n",
       "        vertical-align: top;\n",
       "    }\n",
       "\n",
       "    .dataframe thead th {\n",
       "        text-align: right;\n",
       "    }\n",
       "</style>\n",
       "<table border=\"1\" class=\"dataframe\">\n",
       "  <thead>\n",
       "    <tr style=\"text-align: right;\">\n",
       "      <th></th>\n",
       "      <th>Nscore</th>\n",
       "      <th>Escore</th>\n",
       "      <th>Oscore</th>\n",
       "      <th>Ascore</th>\n",
       "      <th>Cscore</th>\n",
       "      <th>Impulsive</th>\n",
       "      <th>SS</th>\n",
       "      <th>Nscore^2</th>\n",
       "      <th>Nscore Escore</th>\n",
       "      <th>Nscore Oscore</th>\n",
       "      <th>Nscore Ascore</th>\n",
       "      <th>Nscore Cscore</th>\n",
       "      <th>Nscore Impulsive</th>\n",
       "      <th>Nscore SS</th>\n",
       "      <th>Escore^2</th>\n",
       "      <th>Escore Oscore</th>\n",
       "      <th>Escore Ascore</th>\n",
       "      <th>Escore Cscore</th>\n",
       "      <th>Escore Impulsive</th>\n",
       "      <th>Escore SS</th>\n",
       "      <th>Oscore^2</th>\n",
       "      <th>Oscore Ascore</th>\n",
       "      <th>Oscore Cscore</th>\n",
       "      <th>Oscore Impulsive</th>\n",
       "      <th>Oscore SS</th>\n",
       "      <th>Ascore^2</th>\n",
       "      <th>Ascore Cscore</th>\n",
       "      <th>Ascore Impulsive</th>\n",
       "      <th>Ascore SS</th>\n",
       "      <th>Cscore^2</th>\n",
       "      <th>Cscore Impulsive</th>\n",
       "      <th>Cscore SS</th>\n",
       "      <th>Impulsive^2</th>\n",
       "      <th>Impulsive SS</th>\n",
       "      <th>SS^2</th>\n",
       "      <th>Alcohol</th>\n",
       "      <th>Cannabis</th>\n",
       "      <th>EDU_18</th>\n",
       "      <th>EDU_Some_college</th>\n",
       "      <th>EDU_Cert</th>\n",
       "      <th>EDU_Uni</th>\n",
       "      <th>EDU_Mas</th>\n",
       "      <th>EDU_Doc</th>\n",
       "      <th>EDU_Doc.1</th>\n",
       "      <th>Age25_34</th>\n",
       "      <th>Age35_44</th>\n",
       "      <th>Age45_54</th>\n",
       "      <th>Age55_64</th>\n",
       "      <th>Age65_</th>\n",
       "      <th>Gender</th>\n",
       "    </tr>\n",
       "  </thead>\n",
       "  <tbody>\n",
       "    <tr>\n",
       "      <th>0</th>\n",
       "      <td>0.31287</td>\n",
       "      <td>-0.57545</td>\n",
       "      <td>-0.58331</td>\n",
       "      <td>-0.91699</td>\n",
       "      <td>-0.00665</td>\n",
       "      <td>-0.21712</td>\n",
       "      <td>-1.18084</td>\n",
       "      <td>0.097888</td>\n",
       "      <td>-0.180041</td>\n",
       "      <td>-0.182500</td>\n",
       "      <td>-0.286899</td>\n",
       "      <td>-0.002081</td>\n",
       "      <td>-0.067930</td>\n",
       "      <td>-0.369449</td>\n",
       "      <td>0.331143</td>\n",
       "      <td>0.335666</td>\n",
       "      <td>0.527682</td>\n",
       "      <td>0.003827</td>\n",
       "      <td>0.124942</td>\n",
       "      <td>0.679514</td>\n",
       "      <td>0.340251</td>\n",
       "      <td>0.534889</td>\n",
       "      <td>0.003879</td>\n",
       "      <td>0.126648</td>\n",
       "      <td>0.688796</td>\n",
       "      <td>0.840871</td>\n",
       "      <td>0.006098</td>\n",
       "      <td>0.199097</td>\n",
       "      <td>1.082818</td>\n",
       "      <td>0.000044</td>\n",
       "      <td>0.001444</td>\n",
       "      <td>0.007853</td>\n",
       "      <td>0.047141</td>\n",
       "      <td>0.256384</td>\n",
       "      <td>1.394383</td>\n",
       "      <td>1</td>\n",
       "      <td>0</td>\n",
       "      <td>0</td>\n",
       "      <td>0</td>\n",
       "      <td>1</td>\n",
       "      <td>0</td>\n",
       "      <td>0</td>\n",
       "      <td>0</td>\n",
       "      <td>0</td>\n",
       "      <td>0</td>\n",
       "      <td>1</td>\n",
       "      <td>0</td>\n",
       "      <td>0</td>\n",
       "      <td>0</td>\n",
       "      <td>0</td>\n",
       "    </tr>\n",
       "    <tr>\n",
       "      <th>1</th>\n",
       "      <td>-0.67825</td>\n",
       "      <td>1.93886</td>\n",
       "      <td>1.43533</td>\n",
       "      <td>0.76096</td>\n",
       "      <td>-0.14277</td>\n",
       "      <td>-0.71126</td>\n",
       "      <td>-0.21575</td>\n",
       "      <td>0.460023</td>\n",
       "      <td>-1.315032</td>\n",
       "      <td>-0.973513</td>\n",
       "      <td>-0.516121</td>\n",
       "      <td>0.096834</td>\n",
       "      <td>0.482412</td>\n",
       "      <td>0.146332</td>\n",
       "      <td>3.759178</td>\n",
       "      <td>2.782904</td>\n",
       "      <td>1.475395</td>\n",
       "      <td>-0.276811</td>\n",
       "      <td>-1.379034</td>\n",
       "      <td>-0.418309</td>\n",
       "      <td>2.060172</td>\n",
       "      <td>1.092229</td>\n",
       "      <td>-0.204922</td>\n",
       "      <td>-1.020893</td>\n",
       "      <td>-0.309672</td>\n",
       "      <td>0.579060</td>\n",
       "      <td>-0.108642</td>\n",
       "      <td>-0.541240</td>\n",
       "      <td>-0.164177</td>\n",
       "      <td>0.020383</td>\n",
       "      <td>0.101547</td>\n",
       "      <td>0.030803</td>\n",
       "      <td>0.505891</td>\n",
       "      <td>0.153454</td>\n",
       "      <td>0.046548</td>\n",
       "      <td>1</td>\n",
       "      <td>1</td>\n",
       "      <td>0</td>\n",
       "      <td>0</td>\n",
       "      <td>0</td>\n",
       "      <td>0</td>\n",
       "      <td>0</td>\n",
       "      <td>1</td>\n",
       "      <td>1</td>\n",
       "      <td>1</td>\n",
       "      <td>0</td>\n",
       "      <td>0</td>\n",
       "      <td>0</td>\n",
       "      <td>0</td>\n",
       "      <td>1</td>\n",
       "    </tr>\n",
       "    <tr>\n",
       "      <th>2</th>\n",
       "      <td>-0.46725</td>\n",
       "      <td>0.80523</td>\n",
       "      <td>-0.84732</td>\n",
       "      <td>-1.62090</td>\n",
       "      <td>-1.01450</td>\n",
       "      <td>-1.37983</td>\n",
       "      <td>0.40148</td>\n",
       "      <td>0.218323</td>\n",
       "      <td>-0.376244</td>\n",
       "      <td>0.395910</td>\n",
       "      <td>0.757366</td>\n",
       "      <td>0.474025</td>\n",
       "      <td>0.644726</td>\n",
       "      <td>-0.187592</td>\n",
       "      <td>0.648395</td>\n",
       "      <td>-0.682287</td>\n",
       "      <td>-1.305197</td>\n",
       "      <td>-0.816906</td>\n",
       "      <td>-1.111081</td>\n",
       "      <td>0.323284</td>\n",
       "      <td>0.717951</td>\n",
       "      <td>1.373421</td>\n",
       "      <td>0.859606</td>\n",
       "      <td>1.169158</td>\n",
       "      <td>-0.340182</td>\n",
       "      <td>2.627317</td>\n",
       "      <td>1.644403</td>\n",
       "      <td>2.236566</td>\n",
       "      <td>-0.650759</td>\n",
       "      <td>1.029210</td>\n",
       "      <td>1.399838</td>\n",
       "      <td>-0.407301</td>\n",
       "      <td>1.903931</td>\n",
       "      <td>-0.553974</td>\n",
       "      <td>0.161186</td>\n",
       "      <td>1</td>\n",
       "      <td>0</td>\n",
       "      <td>0</td>\n",
       "      <td>0</td>\n",
       "      <td>1</td>\n",
       "      <td>0</td>\n",
       "      <td>0</td>\n",
       "      <td>0</td>\n",
       "      <td>0</td>\n",
       "      <td>0</td>\n",
       "      <td>1</td>\n",
       "      <td>0</td>\n",
       "      <td>0</td>\n",
       "      <td>0</td>\n",
       "      <td>1</td>\n",
       "    </tr>\n",
       "    <tr>\n",
       "      <th>3</th>\n",
       "      <td>-0.14882</td>\n",
       "      <td>-0.80615</td>\n",
       "      <td>-0.01928</td>\n",
       "      <td>0.59042</td>\n",
       "      <td>0.58489</td>\n",
       "      <td>-1.37983</td>\n",
       "      <td>-1.18084</td>\n",
       "      <td>0.022147</td>\n",
       "      <td>0.119971</td>\n",
       "      <td>0.002869</td>\n",
       "      <td>-0.087866</td>\n",
       "      <td>-0.087043</td>\n",
       "      <td>0.205346</td>\n",
       "      <td>0.175733</td>\n",
       "      <td>0.649878</td>\n",
       "      <td>0.015543</td>\n",
       "      <td>-0.475967</td>\n",
       "      <td>-0.471509</td>\n",
       "      <td>1.112350</td>\n",
       "      <td>0.951934</td>\n",
       "      <td>0.000372</td>\n",
       "      <td>-0.011383</td>\n",
       "      <td>-0.011277</td>\n",
       "      <td>0.026603</td>\n",
       "      <td>0.022767</td>\n",
       "      <td>0.348596</td>\n",
       "      <td>0.345331</td>\n",
       "      <td>-0.814679</td>\n",
       "      <td>-0.697192</td>\n",
       "      <td>0.342096</td>\n",
       "      <td>-0.807049</td>\n",
       "      <td>-0.690662</td>\n",
       "      <td>1.903931</td>\n",
       "      <td>1.629358</td>\n",
       "      <td>1.394383</td>\n",
       "      <td>1</td>\n",
       "      <td>0</td>\n",
       "      <td>0</td>\n",
       "      <td>0</td>\n",
       "      <td>0</td>\n",
       "      <td>0</td>\n",
       "      <td>1</td>\n",
       "      <td>0</td>\n",
       "      <td>0</td>\n",
       "      <td>0</td>\n",
       "      <td>0</td>\n",
       "      <td>0</td>\n",
       "      <td>0</td>\n",
       "      <td>0</td>\n",
       "      <td>0</td>\n",
       "    </tr>\n",
       "    <tr>\n",
       "      <th>4</th>\n",
       "      <td>0.73545</td>\n",
       "      <td>-1.63340</td>\n",
       "      <td>-0.45174</td>\n",
       "      <td>-0.30172</td>\n",
       "      <td>1.30612</td>\n",
       "      <td>-0.21712</td>\n",
       "      <td>-0.21575</td>\n",
       "      <td>0.540887</td>\n",
       "      <td>-1.201284</td>\n",
       "      <td>-0.332232</td>\n",
       "      <td>-0.221900</td>\n",
       "      <td>0.960586</td>\n",
       "      <td>-0.159681</td>\n",
       "      <td>-0.158673</td>\n",
       "      <td>2.667996</td>\n",
       "      <td>0.737872</td>\n",
       "      <td>0.492829</td>\n",
       "      <td>-2.133416</td>\n",
       "      <td>0.354644</td>\n",
       "      <td>0.352406</td>\n",
       "      <td>0.204069</td>\n",
       "      <td>0.136299</td>\n",
       "      <td>-0.590027</td>\n",
       "      <td>0.098082</td>\n",
       "      <td>0.097463</td>\n",
       "      <td>0.091035</td>\n",
       "      <td>-0.394083</td>\n",
       "      <td>0.065509</td>\n",
       "      <td>0.065096</td>\n",
       "      <td>1.705949</td>\n",
       "      <td>-0.283585</td>\n",
       "      <td>-0.281795</td>\n",
       "      <td>0.047141</td>\n",
       "      <td>0.046844</td>\n",
       "      <td>0.046548</td>\n",
       "      <td>1</td>\n",
       "      <td>0</td>\n",
       "      <td>0</td>\n",
       "      <td>0</td>\n",
       "      <td>0</td>\n",
       "      <td>0</td>\n",
       "      <td>0</td>\n",
       "      <td>1</td>\n",
       "      <td>1</td>\n",
       "      <td>0</td>\n",
       "      <td>1</td>\n",
       "      <td>0</td>\n",
       "      <td>0</td>\n",
       "      <td>0</td>\n",
       "      <td>0</td>\n",
       "    </tr>\n",
       "  </tbody>\n",
       "</table>\n",
       "</div>"
      ],
      "text/plain": [
       "    Nscore   Escore   Oscore   Ascore   Cscore  Impulsive       SS  Nscore^2  \\\n",
       "0  0.31287 -0.57545 -0.58331 -0.91699 -0.00665   -0.21712 -1.18084  0.097888   \n",
       "1 -0.67825  1.93886  1.43533  0.76096 -0.14277   -0.71126 -0.21575  0.460023   \n",
       "2 -0.46725  0.80523 -0.84732 -1.62090 -1.01450   -1.37983  0.40148  0.218323   \n",
       "3 -0.14882 -0.80615 -0.01928  0.59042  0.58489   -1.37983 -1.18084  0.022147   \n",
       "4  0.73545 -1.63340 -0.45174 -0.30172  1.30612   -0.21712 -0.21575  0.540887   \n",
       "\n",
       "   Nscore Escore  Nscore Oscore  Nscore Ascore  Nscore Cscore  \\\n",
       "0      -0.180041      -0.182500      -0.286899      -0.002081   \n",
       "1      -1.315032      -0.973513      -0.516121       0.096834   \n",
       "2      -0.376244       0.395910       0.757366       0.474025   \n",
       "3       0.119971       0.002869      -0.087866      -0.087043   \n",
       "4      -1.201284      -0.332232      -0.221900       0.960586   \n",
       "\n",
       "   Nscore Impulsive  Nscore SS  Escore^2  Escore Oscore  Escore Ascore  \\\n",
       "0         -0.067930  -0.369449  0.331143       0.335666       0.527682   \n",
       "1          0.482412   0.146332  3.759178       2.782904       1.475395   \n",
       "2          0.644726  -0.187592  0.648395      -0.682287      -1.305197   \n",
       "3          0.205346   0.175733  0.649878       0.015543      -0.475967   \n",
       "4         -0.159681  -0.158673  2.667996       0.737872       0.492829   \n",
       "\n",
       "   Escore Cscore  Escore Impulsive  Escore SS  Oscore^2  Oscore Ascore  \\\n",
       "0       0.003827          0.124942   0.679514  0.340251       0.534889   \n",
       "1      -0.276811         -1.379034  -0.418309  2.060172       1.092229   \n",
       "2      -0.816906         -1.111081   0.323284  0.717951       1.373421   \n",
       "3      -0.471509          1.112350   0.951934  0.000372      -0.011383   \n",
       "4      -2.133416          0.354644   0.352406  0.204069       0.136299   \n",
       "\n",
       "   Oscore Cscore  Oscore Impulsive  Oscore SS  Ascore^2  Ascore Cscore  \\\n",
       "0       0.003879          0.126648   0.688796  0.840871       0.006098   \n",
       "1      -0.204922         -1.020893  -0.309672  0.579060      -0.108642   \n",
       "2       0.859606          1.169158  -0.340182  2.627317       1.644403   \n",
       "3      -0.011277          0.026603   0.022767  0.348596       0.345331   \n",
       "4      -0.590027          0.098082   0.097463  0.091035      -0.394083   \n",
       "\n",
       "   Ascore Impulsive  Ascore SS  Cscore^2  Cscore Impulsive  Cscore SS  \\\n",
       "0          0.199097   1.082818  0.000044          0.001444   0.007853   \n",
       "1         -0.541240  -0.164177  0.020383          0.101547   0.030803   \n",
       "2          2.236566  -0.650759  1.029210          1.399838  -0.407301   \n",
       "3         -0.814679  -0.697192  0.342096         -0.807049  -0.690662   \n",
       "4          0.065509   0.065096  1.705949         -0.283585  -0.281795   \n",
       "\n",
       "   Impulsive^2  Impulsive SS      SS^2  Alcohol  Cannabis  EDU_18  \\\n",
       "0     0.047141      0.256384  1.394383        1         0       0   \n",
       "1     0.505891      0.153454  0.046548        1         1       0   \n",
       "2     1.903931     -0.553974  0.161186        1         0       0   \n",
       "3     1.903931      1.629358  1.394383        1         0       0   \n",
       "4     0.047141      0.046844  0.046548        1         0       0   \n",
       "\n",
       "   EDU_Some_college  EDU_Cert  EDU_Uni  EDU_Mas  EDU_Doc  EDU_Doc.1  Age25_34  \\\n",
       "0                 0         1        0        0        0          0         0   \n",
       "1                 0         0        0        0        1          1         1   \n",
       "2                 0         1        0        0        0          0         0   \n",
       "3                 0         0        0        1        0          0         0   \n",
       "4                 0         0        0        0        1          1         0   \n",
       "\n",
       "   Age35_44  Age45_54  Age55_64  Age65_  Gender  \n",
       "0         1         0         0       0       0  \n",
       "1         0         0         0       0       1  \n",
       "2         1         0         0       0       1  \n",
       "3         0         0         0       0       0  \n",
       "4         1         0         0       0       0  "
      ]
     },
     "execution_count": 50,
     "metadata": {},
     "output_type": "execute_result"
    }
   ],
   "source": [
    "#polynomial features added personality data only \n",
    "poly_df = pd.read_csv(\"poly_2df.csv\")\n",
    "poly_df.drop(['Unnamed: 0'], axis=1, inplace = True)\n",
    "poly_df.head()"
   ]
  },
  {
   "cell_type": "code",
   "execution_count": 51,
   "metadata": {},
   "outputs": [
    {
     "data": {
      "text/plain": [
       "Nscore              1\n",
       "Escore              1\n",
       "Oscore              1\n",
       "Ascore              1\n",
       "Cscore              1\n",
       "Impulsive           1\n",
       "SS                  1\n",
       "Nscore^2            1\n",
       "Nscore Escore       1\n",
       "Nscore Oscore       1\n",
       "Nscore Ascore       1\n",
       "Nscore Cscore       1\n",
       "Nscore Impulsive    1\n",
       "Nscore SS           1\n",
       "Escore^2            1\n",
       "Escore Oscore       1\n",
       "Escore Ascore       1\n",
       "Escore Cscore       1\n",
       "Escore Impulsive    1\n",
       "Escore SS           1\n",
       "Oscore^2            1\n",
       "Oscore Ascore       1\n",
       "Oscore Cscore       1\n",
       "Oscore Impulsive    1\n",
       "Oscore SS           1\n",
       "Ascore^2            1\n",
       "Ascore Cscore       1\n",
       "Ascore Impulsive    1\n",
       "Ascore SS           1\n",
       "Cscore^2            1\n",
       "Cscore Impulsive    1\n",
       "Cscore SS           1\n",
       "Impulsive^2         1\n",
       "Impulsive SS        1\n",
       "SS^2                1\n",
       "Alcohol             1\n",
       "Cannabis            1\n",
       "EDU_18              1\n",
       "EDU_Some_college    1\n",
       "EDU_Cert            1\n",
       "EDU_Uni             1\n",
       "EDU_Mas             1\n",
       "EDU_Doc             2\n",
       "EDU_Doc.1           2\n",
       "Age25_34            1\n",
       "Age35_44            1\n",
       "Age45_54            1\n",
       "Age55_64            1\n",
       "Age65_              1\n",
       "Gender              1\n",
       "dtype: int64"
      ]
     },
     "execution_count": 51,
     "metadata": {},
     "output_type": "execute_result"
    }
   ],
   "source": [
    "(poly_df.corr() > .95).sum()"
   ]
  },
  {
   "cell_type": "code",
   "execution_count": 52,
   "metadata": {},
   "outputs": [],
   "source": [
    "X = poly_df.drop(['EDU_Doc'], axis=1)\n",
    "y = df.Drug_Use"
   ]
  },
  {
   "cell_type": "code",
   "execution_count": 53,
   "metadata": {},
   "outputs": [],
   "source": [
    "X_train, X_test, y_train, y_test = train_test_split(X, y, random_state=99, test_size=0.25) "
   ]
  },
  {
   "cell_type": "code",
   "execution_count": 54,
   "metadata": {},
   "outputs": [],
   "source": [
    "#scale\n",
    "scaler = StandardScaler()\n",
    "\n",
    "scaler.fit(X_train)\n",
    "X_train = scaler.transform(X_train)\n",
    "\n",
    "scaler.fit(X_test)\n",
    "X_test = scaler.transform(X_test)"
   ]
  },
  {
   "cell_type": "code",
   "execution_count": 55,
   "metadata": {},
   "outputs": [
    {
     "name": "stderr",
     "output_type": "stream",
     "text": [
      "C:\\Users\\Royce\\anaconda3\\lib\\site-packages\\sklearn\\linear_model\\_logistic.py:1320: UserWarning: Setting penalty='none' will ignore the C and l1_ratio parameters\n",
      "  warnings.warn(\n",
      "C:\\Users\\Royce\\anaconda3\\lib\\site-packages\\sklearn\\linear_model\\_logistic.py:1320: UserWarning: Setting penalty='none' will ignore the C and l1_ratio parameters\n",
      "  warnings.warn(\n",
      "C:\\Users\\Royce\\anaconda3\\lib\\site-packages\\sklearn\\linear_model\\_logistic.py:1320: UserWarning: Setting penalty='none' will ignore the C and l1_ratio parameters\n",
      "  warnings.warn(\n",
      "C:\\Users\\Royce\\anaconda3\\lib\\site-packages\\sklearn\\linear_model\\_logistic.py:1320: UserWarning: Setting penalty='none' will ignore the C and l1_ratio parameters\n",
      "  warnings.warn(\n",
      "C:\\Users\\Royce\\anaconda3\\lib\\site-packages\\sklearn\\linear_model\\_logistic.py:1320: UserWarning: Setting penalty='none' will ignore the C and l1_ratio parameters\n",
      "  warnings.warn(\n",
      "C:\\Users\\Royce\\anaconda3\\lib\\site-packages\\sklearn\\linear_model\\_logistic.py:1320: UserWarning: Setting penalty='none' will ignore the C and l1_ratio parameters\n",
      "  warnings.warn(\n",
      "C:\\Users\\Royce\\anaconda3\\lib\\site-packages\\sklearn\\linear_model\\_logistic.py:1320: UserWarning: Setting penalty='none' will ignore the C and l1_ratio parameters\n",
      "  warnings.warn(\n",
      "C:\\Users\\Royce\\anaconda3\\lib\\site-packages\\sklearn\\linear_model\\_logistic.py:1320: UserWarning: Setting penalty='none' will ignore the C and l1_ratio parameters\n",
      "  warnings.warn(\n",
      "C:\\Users\\Royce\\anaconda3\\lib\\site-packages\\sklearn\\linear_model\\_logistic.py:1320: UserWarning: Setting penalty='none' will ignore the C and l1_ratio parameters\n",
      "  warnings.warn(\n",
      "C:\\Users\\Royce\\anaconda3\\lib\\site-packages\\sklearn\\linear_model\\_logistic.py:1320: UserWarning: Setting penalty='none' will ignore the C and l1_ratio parameters\n",
      "  warnings.warn(\n",
      "C:\\Users\\Royce\\anaconda3\\lib\\site-packages\\sklearn\\linear_model\\_logistic.py:1320: UserWarning: Setting penalty='none' will ignore the C and l1_ratio parameters\n",
      "  warnings.warn(\n",
      "C:\\Users\\Royce\\anaconda3\\lib\\site-packages\\sklearn\\linear_model\\_logistic.py:1320: UserWarning: Setting penalty='none' will ignore the C and l1_ratio parameters\n",
      "  warnings.warn(\n",
      "C:\\Users\\Royce\\anaconda3\\lib\\site-packages\\sklearn\\linear_model\\_logistic.py:1320: UserWarning: Setting penalty='none' will ignore the C and l1_ratio parameters\n",
      "  warnings.warn(\n",
      "C:\\Users\\Royce\\anaconda3\\lib\\site-packages\\sklearn\\linear_model\\_logistic.py:1320: UserWarning: Setting penalty='none' will ignore the C and l1_ratio parameters\n",
      "  warnings.warn(\n",
      "C:\\Users\\Royce\\anaconda3\\lib\\site-packages\\sklearn\\linear_model\\_logistic.py:1320: UserWarning: Setting penalty='none' will ignore the C and l1_ratio parameters\n",
      "  warnings.warn(\n"
     ]
    },
    {
     "name": "stdout",
     "output_type": "stream",
     "text": [
      "0.8087275835392076\n",
      "{'C': 0.25, 'penalty': 'l1'}\n",
      "LogisticRegression(C=0.25, penalty='l1', solver='saga')\n",
      "F1_score: 0.7832422586520947\n"
     ]
    }
   ],
   "source": [
    "# instantiate a model\n",
    "logreg= LogisticRegression(solver= 'saga')\n",
    "\n",
    "# create parameters to test\n",
    "parameters= {'penalty': ['l1', 'l2', 'none'],\n",
    "             'C': [0.25, 0.5, 0.75],\n",
    "            }\n",
    "#\n",
    "grid_logreg= GridSearchCV(logreg, param_grid= parameters, cv=5, scoring='f1')\n",
    "\n",
    "#\n",
    "grid_logreg= grid_logreg.fit(X_train,y_train)\n",
    "\n",
    "#\n",
    "print(grid_logreg.best_score_)\n",
    "\n",
    "#\n",
    "print(grid_logreg.best_params_)\n",
    "\n",
    "#\n",
    "print(grid_logreg.best_estimator_)\n",
    "\n",
    "#Predict the response for test dataset\n",
    "y_pred = grid_logreg.best_estimator_.predict(X_test)\n",
    "\n",
    "# Model Accuracy, how often is the classifier correct?\n",
    "print(\"F1_score:\", f1_score(y_test, y_pred))"
   ]
  },
  {
   "cell_type": "code",
   "execution_count": 56,
   "metadata": {},
   "outputs": [
    {
     "name": "stdout",
     "output_type": "stream",
     "text": [
      "Accuracy:  0.7531914893617021\n",
      "F1 Score:  0.7979094076655052\n"
     ]
    }
   ],
   "source": [
    "rfc1=RandomForestClassifier(random_state=23, \n",
    "                            max_features='auto',\n",
    "                            n_estimators= 200, \n",
    "                            max_depth=7, \n",
    "                            criterion='entropy')\n",
    "\n",
    "rfc1.fit(X_train, y_train)\n",
    "pred=rfc1.predict(X_test)\n",
    "\n",
    "print(\"Accuracy: \",accuracy_score(y_test,pred))\n",
    "\n",
    "print(\"F1 Score: \", f1_score(y_test,pred))"
   ]
  },
  {
   "cell_type": "code",
   "execution_count": 57,
   "metadata": {},
   "outputs": [
    {
     "name": "stdout",
     "output_type": "stream",
     "text": [
      "0.8234180064435874\n",
      "{'n_neighbors': 75, 'p': 1}\n",
      "KNeighborsClassifier(n_neighbors=75, p=1)\n",
      "F1_score: 0.7793103448275861\n"
     ]
    }
   ],
   "source": [
    "# instantiate a model\n",
    "knn= KNeighborsClassifier()\n",
    "\n",
    "# create parameters to test\n",
    "parameters= {'n_neighbors': range(1, 200, 2),\n",
    "             'p': range(1, 3)\n",
    "            }\n",
    "#\n",
    "grid_knn= GridSearchCV(estimator= knn, param_grid= parameters, cv=5, scoring='f1')\n",
    "\n",
    "#\n",
    "grid_knn= grid_knn.fit(X_train,y_train)\n",
    "\n",
    "#\n",
    "print(grid_knn.best_score_)\n",
    "\n",
    "# \n",
    "print(grid_knn.best_params_)\n",
    "\n",
    "# \n",
    "print(grid_knn.best_estimator_)\n",
    "\n",
    "#\n",
    "y_pred = grid_knn.best_estimator_.predict(X_test)\n",
    "\n",
    "#\n",
    "print(\"F1_score:\", f1_score(y_test, y_pred))"
   ]
  },
  {
   "cell_type": "code",
   "execution_count": 58,
   "metadata": {},
   "outputs": [
    {
     "name": "stdout",
     "output_type": "stream",
     "text": [
      "Accuracy: 0.744681\n",
      "F1: 0.779412\n"
     ]
    }
   ],
   "source": [
    "xgb.XGBClassifier()\n",
    "xg_clf = xgb.XGBClassifier(objective ='binary:logistic', \n",
    "                           colsample_bytree = 0.3, \n",
    "                           learning_rate = 0.1,\n",
    "                           max_depth = 2, \n",
    "                           alpha = 1, \n",
    "                           n_estimators = 100)\n",
    "xg_clf.fit(X_train,y_train)\n",
    "preds = xg_clf.predict(X_test)\n",
    "\n",
    "test_f1 = f1_score(y_test, preds)\n",
    "test_acc = accuracy_score(y_test, preds)\n",
    "\n",
    "print(\"Accuracy: %f\" % (test_acc))\n",
    "print(\"F1: %f\" % (test_f1))\n"
   ]
  },
  {
   "cell_type": "code",
   "execution_count": 59,
   "metadata": {},
   "outputs": [],
   "source": [
    "result = [[\"Logistic Regression\", 0.78, 0.74],\n",
    " [\"Random Forest\", 0.79, 0.74],\n",
    " [\"XGBoost\", 0.79, 0.73],\n",
    " [\"KNN\", 0.82, 0.77]]"
   ]
  },
  {
   "cell_type": "code",
   "execution_count": 60,
   "metadata": {},
   "outputs": [
    {
     "name": "stdout",
     "output_type": "stream",
     "text": [
      "x-axis:\n",
      " 0 - Logistic Regression\n",
      " 1 - Random Forest\n",
      " 3 - XGBoost\n",
      " 4 - KNN\n"
     ]
    },
    {
     "data": {
      "image/png": "[encoded data removed]",
      "text/plain": [
       "<Figure size 432x288 with 1 Axes>"
      ]
     },
     "metadata": {},
     "output_type": "display_data"
    }
   ],
   "source": [
    "df = pd.DataFrame(result, columns = ['Methods', 'F1 Score', 'Accuracy'] )\n",
    "df.plot.bar()\n",
    "print(\"x-axis:\\n 0 - Logistic Regression\\n 1 - Random Forest\\n 3 - XGBoost\\n 4 - KNN\")"
   ]
  },
  {
   "cell_type": "code",
   "execution_count": 61,
   "metadata": {},
   "outputs": [
    {
     "name": "stdout",
     "output_type": "stream",
     "text": [
      "| Methods             |   F1 Score |   Accuracy |\n",
      "|---------------------+------------+------------|\n",
      "| Logistic Regression |       0.78 |       0.74 |\n",
      "| Random Forest       |       0.79 |       0.74 |\n",
      "| XGBoost             |       0.79 |       0.73 |\n",
      "| KNN                 |       0.82 |       0.77 |\n"
     ]
    }
   ],
   "source": [
    "from tabulate import tabulate\n",
    "table = tabulate(result, headers=['Methods', 'F1 Score', 'Accuracy'], tablefmt='orgtbl')\n",
    "print(table)"
   ]
  },
  {
   "cell_type": "code",
   "execution_count": null,
   "metadata": {},
   "outputs": [],
   "source": []
  }
 ],
 "metadata": {
  "kernelspec": {
   "display_name": "Python 3",
   "language": "python",
   "name": "python3"
  },
  "language_info": {
   "codemirror_mode": {
    "name": "ipython",
    "version": 3
   },
   "file_extension": ".py",
   "mimetype": "text/x-python",
   "name": "python",
   "nbconvert_exporter": "python",
   "pygments_lexer": "ipython3",
   "version": "3.8.3"
  }
 },
 "nbformat": 4,
 "nbformat_minor": 2
}
